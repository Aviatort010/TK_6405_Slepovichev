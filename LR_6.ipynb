{
 "cells": [
  {
   "cell_type": "markdown",
   "source": [
    "\n",
    "# Теория Кодирования\n",
    "## Лабораторная работа 6\n",
    "\n",
    "От студента группы **6405**-010302\n",
    "**Слеповичева Святослава**\n",
    "\n",
    "\n",
    "---\n",
    "\n",
    "### Задание\n",
    "#### 6.1 Написать функции кодирования и декодирования для циклического кода (7,4) с порождающим многочленом g(x)=1+x2+x3, исправляющего однократные ошибки и провести исследование этого кода для одно-, двух- и трёхкратных ошибок."
   ],
   "metadata": {
    "collapsed": false
   }
  },
  {
   "cell_type": "code",
   "execution_count": 92,
   "outputs": [],
   "source": [
    "import numpy as np\n",
    "from sympy import Symbol, div"
   ],
   "metadata": {
    "collapsed": false,
    "ExecuteTime": {
     "end_time": "2025-02-20T15:32:10.610658400Z",
     "start_time": "2025-02-20T15:32:10.584362Z"
    }
   }
  },
  {
   "cell_type": "code",
   "execution_count": 93,
   "outputs": [],
   "source": [
    "def encode(a, g, n):\n",
    "    a_polynom = 0\n",
    "    for idx, el in enumerate(a):\n",
    "        a_polynom += el * x**idx\n",
    "\n",
    "    coefficient_dict = dict((a_polynom * g).expand().as_coefficients_dict().items())\n",
    "    received_word = []\n",
    "    for i in range(n):\n",
    "        received_word.append((coefficient_dict.setdefault(x**i, 0)) % 2)\n",
    "    return received_word\n",
    "\n",
    "\n",
    "n, k = 7, 4\n",
    "\n",
    "x = Symbol('x')\n",
    "g = 1 + x**2 + x**3\n",
    "\n",
    "word = np.array([1, 0, 0, 1])\n",
    "encoded_word = encode(word, g, n)"
   ],
   "metadata": {
    "collapsed": false,
    "ExecuteTime": {
     "end_time": "2025-02-20T15:32:10.636973200Z",
     "start_time": "2025-02-20T15:32:10.593371400Z"
    }
   }
  },
  {
   "cell_type": "markdown",
   "source": [
    "---\n",
    "#### 6.2 Написать функции кодирования и декодирования для циклического кода (15,9) с порождающим многочленом g(x)=1+x3+x4+x5+x6, исправляющего пакеты ошибок кратности 3"
   ],
   "metadata": {
    "collapsed": false
   }
  },
  {
   "cell_type": "code",
   "execution_count": 94,
   "outputs": [],
   "source": [
    "def decode(a, g, n, k: int, t: int):\n",
    "    a_polynom = 0\n",
    "    for idx, el in enumerate(a):\n",
    "        a_polynom += el * x**idx\n",
    "\n",
    "    r = div(a_polynom, g)[1]\n",
    "    coefficient_dict_cicle = dict(r.as_coefficients_dict().items())\n",
    "    syndrome = 0\n",
    "    for i in range(n):\n",
    "        syndrome += ((coefficient_dict_cicle.setdefault(x**i, 0) % 2) * x**i)\n",
    "\n",
    "    for i in range(n):\n",
    "        r = div(x**i * syndrome, g)[1]\n",
    "        coefficient_dict_cicle = dict(r.as_coefficients_dict().items())\n",
    "        syndrome_i = 0\n",
    "        for j in range(n):\n",
    "            syndrome_i += ((coefficient_dict_cicle.setdefault(x**j, 0) % 2) * x**j)\n",
    "\n",
    "        if sum(syndrome_i.as_coefficients_dict().values()) <= t:\n",
    "            e = (x**(n - i) * syndrome_i).expand()\n",
    "            result_polynom = a_polynom + e\n",
    "\n",
    "            coefficient_dict_cicle = dict(result_polynom.as_coefficients_dict().items())\n",
    "            result_polynom = 0\n",
    "            for l in range(n):\n",
    "                result_polynom += ((coefficient_dict_cicle.setdefault(x**l, 0)) % 2) * x**l\n",
    "\n",
    "            coefficient_dict_cicle = dict(div(result_polynom, g)[0].as_coefficients_dict().items())\n",
    "            result_word = []\n",
    "            for l in range(k):\n",
    "                result_word.append((coefficient_dict_cicle.setdefault(x**l, 0)) % 2)\n",
    "\n",
    "            return np.array(result_word, dtype=int)\n",
    "    return None\n"
   ],
   "metadata": {
    "collapsed": false,
    "ExecuteTime": {
     "end_time": "2025-02-20T15:32:10.681134700Z",
     "start_time": "2025-02-20T15:32:10.602374700Z"
    }
   }
  },
  {
   "cell_type": "markdown",
   "source": [
    "---\n",
    "#### И провести исследование этого кода для пакетов ошибок длины 1, 2, 3 и 4."
   ],
   "metadata": {
    "collapsed": false
   }
  },
  {
   "cell_type": "code",
   "execution_count": 95,
   "outputs": [
    {
     "data": {
      "text/plain": "True"
     },
     "execution_count": 95,
     "metadata": {},
     "output_type": "execute_result"
    }
   ],
   "source": [
    "# Однократно ошиблись\n",
    "broken_word = encoded_word.copy()\n",
    "broken_word[0] ^= 1\n",
    "\n",
    "all(decode(broken_word, g, n, k, 1) == word)"
   ],
   "metadata": {
    "collapsed": false,
    "ExecuteTime": {
     "end_time": "2025-02-20T15:32:10.682135200Z",
     "start_time": "2025-02-20T15:32:10.610658400Z"
    }
   }
  },
  {
   "cell_type": "code",
   "execution_count": 96,
   "outputs": [
    {
     "data": {
      "text/plain": "False"
     },
     "execution_count": 96,
     "metadata": {},
     "output_type": "execute_result"
    }
   ],
   "source": [
    "# Двукратно ошиблись\n",
    "broken_word = encoded_word.copy()\n",
    "broken_word[2] ^= 1\n",
    "broken_word[3] ^= 1\n",
    "\n",
    "all(decode(broken_word, g, n, k, 2) == word)"
   ],
   "metadata": {
    "collapsed": false,
    "ExecuteTime": {
     "end_time": "2025-02-20T15:32:10.682135200Z",
     "start_time": "2025-02-20T15:32:10.620584800Z"
    }
   }
  },
  {
   "cell_type": "code",
   "execution_count": 97,
   "outputs": [
    {
     "data": {
      "text/plain": "False"
     },
     "execution_count": 97,
     "metadata": {},
     "output_type": "execute_result"
    }
   ],
   "source": [
    "# Трёхкратно ошиблись\n",
    "broken_word = encoded_word.copy()\n",
    "broken_word[2] ^= 1\n",
    "broken_word[3] ^= 1\n",
    "broken_word[4] ^= 1\n",
    "\n",
    "all(decode(broken_word, g, n, k, 3) == word)"
   ],
   "metadata": {
    "collapsed": false,
    "ExecuteTime": {
     "end_time": "2025-02-20T15:32:10.683197Z",
     "start_time": "2025-02-20T15:32:10.631570800Z"
    }
   }
  },
  {
   "cell_type": "markdown",
   "source": [
    "---\n",
    "#### И для пакетов ошибок"
   ],
   "metadata": {
    "collapsed": false
   }
  },
  {
   "cell_type": "code",
   "execution_count": 98,
   "outputs": [
    {
     "data": {
      "text/plain": "True"
     },
     "execution_count": 98,
     "metadata": {},
     "output_type": "execute_result"
    }
   ],
   "source": [
    "g = 1 + x ** 3 + x ** 4 + x ** 5 + x ** 6\n",
    "n, k = 15, 9\n",
    "\n",
    "\n",
    "# Один раз ошиблись\n",
    "word = np.array([1, 0, 0, 1, 0, 0, 0, 1, 1])\n",
    "encoded_word = encode(word, g, n)\n",
    "broken_word = encoded_word.copy()\n",
    "\n",
    "broken_word[5] ^= 1\n",
    "\n",
    "all(decode(broken_word, g, n, k, 1) == word)"
   ],
   "metadata": {
    "collapsed": false,
    "ExecuteTime": {
     "end_time": "2025-02-20T15:32:10.683197Z",
     "start_time": "2025-02-20T15:32:10.643001200Z"
    }
   }
  },
  {
   "cell_type": "code",
   "execution_count": 99,
   "outputs": [
    {
     "data": {
      "text/plain": "True"
     },
     "execution_count": 99,
     "metadata": {},
     "output_type": "execute_result"
    }
   ],
   "source": [
    "# Второй раз ошиблись\n",
    "broken_word = encoded_word.copy()\n",
    "\n",
    "broken_word[5] ^= 1\n",
    "broken_word[7] ^= 1\n",
    "\n",
    "all(decode(broken_word, g, n, k, 2) == word)"
   ],
   "metadata": {
    "collapsed": false,
    "ExecuteTime": {
     "end_time": "2025-02-20T15:32:10.683197Z",
     "start_time": "2025-02-20T15:32:10.650710100Z"
    }
   }
  },
  {
   "cell_type": "code",
   "execution_count": 100,
   "outputs": [
    {
     "data": {
      "text/plain": "False"
     },
     "execution_count": 100,
     "metadata": {},
     "output_type": "execute_result"
    }
   ],
   "source": [
    "# Третий раз ошиблись\n",
    "broken_word = encoded_word.copy()\n",
    "\n",
    "broken_word[5] ^= 1\n",
    "broken_word[6] ^= 1\n",
    "broken_word[7] ^= 1\n",
    "\n",
    "all(decode(broken_word, g, n, k, 3) == word)"
   ],
   "metadata": {
    "collapsed": false,
    "ExecuteTime": {
     "end_time": "2025-02-20T15:32:10.684133600Z",
     "start_time": "2025-02-20T15:32:10.676303500Z"
    }
   }
  },
  {
   "cell_type": "code",
   "execution_count": 101,
   "outputs": [
    {
     "data": {
      "text/plain": "False"
     },
     "execution_count": 101,
     "metadata": {},
     "output_type": "execute_result"
    }
   ],
   "source": [
    "# Четвёртый раз ошиблись\n",
    "broken_word = encoded_word.copy()\n",
    "\n",
    "broken_word[5] ^= 1\n",
    "broken_word[6] ^= 1\n",
    "broken_word[7] ^= 1\n",
    "broken_word[8] ^= 1\n",
    "\n",
    "all(decode(broken_word, g, n, k, 3) == word)"
   ],
   "metadata": {
    "collapsed": false,
    "ExecuteTime": {
     "end_time": "2025-02-20T15:32:10.774612900Z",
     "start_time": "2025-02-20T15:32:10.682135200Z"
    }
   }
  }
 ],
 "metadata": {
  "kernelspec": {
   "display_name": "Python 3",
   "language": "python",
   "name": "python3"
  },
  "language_info": {
   "codemirror_mode": {
    "name": "ipython",
    "version": 2
   },
   "file_extension": ".py",
   "mimetype": "text/x-python",
   "name": "python",
   "nbconvert_exporter": "python",
   "pygments_lexer": "ipython2",
   "version": "2.7.6"
  }
 },
 "nbformat": 4,
 "nbformat_minor": 0
}
