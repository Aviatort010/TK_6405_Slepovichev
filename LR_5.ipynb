{
 "cells": [
  {
   "cell_type": "markdown",
   "source": [
    "\n",
    "# Теория Кодирования\n",
    "## Лабораторная работа 5\n",
    "\n",
    "От студента группы **6405**-010302\n",
    "**Слеповичева Святослава**\n",
    "\n",
    "\n",
    "---\n",
    "\n",
    "### Задание\n",
    "#### 5.1 Написать функцию формирования порождающей матрицы кода Рида-Маллера (r,m) в каноническом виде для произвольно заданных r и m\n"
   ],
   "metadata": {
    "collapsed": false
   }
  },
  {
   "cell_type": "code",
   "execution_count": 60,
   "outputs": [],
   "source": [
    "import numpy as np\n",
    "import math\n",
    "from itertools import product, combinations"
   ],
   "metadata": {
    "collapsed": false,
    "ExecuteTime": {
     "end_time": "2025-02-20T15:18:43.529938800Z",
     "start_time": "2025-02-20T15:18:43.472819600Z"
    }
   }
  },
  {
   "cell_type": "code",
   "execution_count": 61,
   "outputs": [
    {
     "name": "stdout",
     "output_type": "stream",
     "text": [
      "[[0 0 0 0]\n",
      " [1 0 0 0]\n",
      " [0 1 0 0]\n",
      " [1 1 0 0]\n",
      " [0 0 1 0]\n",
      " [1 0 1 0]\n",
      " [0 1 1 0]\n",
      " [1 1 1 0]\n",
      " [0 0 0 1]\n",
      " [1 0 0 1]\n",
      " [0 1 0 1]\n",
      " [1 1 0 1]\n",
      " [0 0 1 1]\n",
      " [1 0 1 1]\n",
      " [0 1 1 1]\n",
      " [1 1 1 1]]\n",
      "[(), (0,), (1,), (2,), (3,), (0, 1), (0, 2), (0, 3), (1, 2), (1, 3), (2, 3)]\n"
     ]
    }
   ],
   "source": [
    "# Выберем \"произвольно\" заданные числа, какие удобнее\n",
    "# кодовое расстояние = 4, а значит по формуле количество возможно исправленных ошибок:\n",
    "# (4 - 1) / 2 = 1 (округляем в меньшую сторону)\n",
    "\n",
    "r, m = 2, 4\n",
    "\n",
    "standart_order = np.array(list(product(*[[0, 1] for _ in range(m)])))\n",
    "standart_order = np.array([el[::-1]for el in standart_order])\n",
    "\n",
    "master_set = [i for i in range(m)]\n",
    "I = [[*combinations(master_set, i)] for i in range(1, m + 1) if i <= r]\n",
    "temp_arr = []\n",
    "\n",
    "for el in I:\n",
    "    temp_arr.extend(el)\n",
    "\n",
    "I = temp_arr.copy()\n",
    "I.insert(0, ())\n",
    "\n",
    "print(standart_order)\n",
    "print(I)"
   ],
   "metadata": {
    "collapsed": false,
    "ExecuteTime": {
     "end_time": "2025-02-20T15:18:43.574150700Z",
     "start_time": "2025-02-20T15:18:43.481126400Z"
    }
   }
  },
  {
   "cell_type": "code",
   "execution_count": 62,
   "outputs": [
    {
     "data": {
      "text/plain": "array([[1, 1, 1, 1, 1, 1, 1, 1, 1, 1, 1, 1, 1, 1, 1, 1],\n       [1, 1, 1, 1, 1, 1, 1, 1, 0, 0, 0, 0, 0, 0, 0, 0],\n       [1, 1, 1, 1, 0, 0, 0, 0, 1, 1, 1, 1, 0, 0, 0, 0],\n       [1, 1, 0, 0, 1, 1, 0, 0, 1, 1, 0, 0, 1, 1, 0, 0],\n       [1, 0, 1, 0, 1, 0, 1, 0, 1, 0, 1, 0, 1, 0, 1, 0],\n       [1, 1, 1, 1, 0, 0, 0, 0, 0, 0, 0, 0, 0, 0, 0, 0],\n       [1, 1, 0, 0, 1, 1, 0, 0, 0, 0, 0, 0, 0, 0, 0, 0],\n       [1, 0, 1, 0, 1, 0, 1, 0, 0, 0, 0, 0, 0, 0, 0, 0],\n       [1, 1, 0, 0, 0, 0, 0, 0, 1, 1, 0, 0, 0, 0, 0, 0],\n       [1, 0, 1, 0, 0, 0, 0, 0, 1, 0, 1, 0, 0, 0, 0, 0],\n       [1, 0, 0, 0, 1, 0, 0, 0, 1, 0, 0, 0, 1, 0, 0, 0]])"
     },
     "execution_count": 62,
     "metadata": {},
     "output_type": "execute_result"
    }
   ],
   "source": [
    "v = []\n",
    "for el in I:\n",
    "    v_i = []\n",
    "    for u in standart_order:\n",
    "        if el == ():\n",
    "            v_i.append(1)\n",
    "        else:\n",
    "            if sum([item for idx, item in enumerate(u) if idx in el]) == 0:\n",
    "                v_i.append(1)\n",
    "            else:\n",
    "                v_i.append(0)\n",
    "    v.append(v_i)\n",
    "\n",
    "G = np.zeros((len(v), 2**m), dtype=int)\n",
    "G[0, :] = v[0]\n",
    "\n",
    "idx = 1\n",
    "for j in range(1, r + 1):\n",
    "    temp_arr = v[idx: idx + math.comb(m, j)]\n",
    "\n",
    "    for i in range(len(temp_arr)):\n",
    "        k = i + 1\n",
    "        while (k < len(temp_arr)):\n",
    "            for l in range(2**m - 1, 0, -1):\n",
    "                if (temp_arr[i][l] != temp_arr[k][l]):\n",
    "                    if(temp_arr[i][l] == 1):\n",
    "                        temp_arr[i], temp_arr[k] = temp_arr[k], temp_arr[i]\n",
    "                        k = i\n",
    "                    break\n",
    "            k += 1\n",
    "    G[idx: idx + math.comb(m, j)] = temp_arr.copy()\n",
    "    idx += math.comb(m, j)\n",
    "G"
   ],
   "metadata": {
    "collapsed": false,
    "ExecuteTime": {
     "end_time": "2025-02-20T15:18:43.574150700Z",
     "start_time": "2025-02-20T15:18:43.491723100Z"
    }
   }
  },
  {
   "cell_type": "markdown",
   "source": [
    "---\n",
    "#### 5.2. Реализовать алгоритм мажоритарного декодирования для кода Рида-Маллера"
   ],
   "metadata": {
    "collapsed": false
   }
  },
  {
   "cell_type": "code",
   "execution_count": 63,
   "outputs": [],
   "source": [
    "def major_decode_algr(w, r, m):\n",
    "\n",
    "    cannot_be_decoded = False\n",
    "    i = r\n",
    "    wj = w.copy()\n",
    "\n",
    "    ms = dict()\n",
    "    while (i >= 0):\n",
    "        J = [*combinations(master_set, i)]\n",
    "        for el in J:\n",
    "            v = []\n",
    "            _J = set(el)\n",
    "            _master_set = set(master_set)\n",
    "            Jc = _master_set - _J\n",
    "\n",
    "            Hj = []\n",
    "            for item in standart_order:\n",
    "                ssum = 0\n",
    "                for j in range(len(item)):\n",
    "                    if j in el:\n",
    "                        ssum += item[j]\n",
    "                if ssum == 0:\n",
    "                    Hj.append(item)\n",
    "\n",
    "            for t in Hj:\n",
    "                v_Jc_t = []\n",
    "                for word in standart_order:\n",
    "                    s = ((np.array(word) + np.array(t)) % 2)\n",
    "                    if sum([item for idx, item in enumerate(s) if idx in Jc]) == 0:\n",
    "                        v_Jc_t.append(1)\n",
    "                    else:\n",
    "                        v_Jc_t.append(0)\n",
    "                v.append(np.array(v_Jc_t, dtype=int))\n",
    "            zeros_count = 0\n",
    "            ones_count = 0\n",
    "\n",
    "            border = 2 ** (m - i - 1)\n",
    "            for x in v:\n",
    "                if (wj @ x) % 2 == 0: zeros_count += 1\n",
    "                else: ones_count += 1\n",
    "\n",
    "                if (zeros_count > border) and (not((zeros_count > border) and (ones_count > border))):\n",
    "                    ms[el] = 0\n",
    "                elif (ones_count > border) and (not((zeros_count > border) and (ones_count > border))):\n",
    "                    ms[el] = 1\n",
    "                elif (zeros_count > border - 1) and (ones_count > border - 1):\n",
    "                    cannot_be_decoded = True\n",
    "                    return ms, cannot_be_decoded\n",
    "\n",
    "        for el in J:\n",
    "            vj = []\n",
    "            for word in standart_order:\n",
    "                if sum([item for idx, item in enumerate(word) if idx in el]) == 0:\n",
    "                    vj.append(1)\n",
    "                else:\n",
    "                    vj.append(0)\n",
    "            wj += (ms[el] * np.array(vj))\n",
    "            wj %= 2\n",
    "\n",
    "            if sum(wj) <= 2**(m - r - 1) - 1:\n",
    "                I = [[*combinations(master_set, i)] for i in range(1, m + 1) if i <= r]\n",
    "                temp_arr = []\n",
    "\n",
    "                for el in I:\n",
    "                    temp_arr.extend(el)\n",
    "\n",
    "                I = temp_arr.copy()\n",
    "                I.insert(0, ())\n",
    "\n",
    "                absent = set(I) - set(ms.keys())\n",
    "                for l in absent:\n",
    "                    ms[l] = 0\n",
    "\n",
    "                word = []\n",
    "                for el in ms:\n",
    "                    word.append(ms[el])\n",
    "                return np.array(word), cannot_be_decoded\n",
    "        i -= 1\n",
    "\n",
    "        word = []\n",
    "        for el in ms:\n",
    "            word.append(ms[el])\n",
    "\n",
    "    return np.array(word), cannot_be_decoded"
   ],
   "metadata": {
    "collapsed": false,
    "ExecuteTime": {
     "end_time": "2025-02-20T15:18:43.576150500Z",
     "start_time": "2025-02-20T15:18:43.510484800Z"
    }
   }
  },
  {
   "cell_type": "markdown",
   "source": [
    "---\n",
    "#### 5.3. Провести экспериментальную проверку алгоритма декодирования для кода Рида-Маллера (2,4)."
   ],
   "metadata": {
    "collapsed": false
   }
  },
  {
   "cell_type": "code",
   "execution_count": 64,
   "outputs": [
    {
     "name": "stdout",
     "output_type": "stream",
     "text": [
      "Source word: [0 1 0 0 0 0 0 0 0 1 0]\n",
      "True\n"
     ]
    }
   ],
   "source": [
    "# Однократная ошибка\n",
    "r, m = 2, 4\n",
    "\n",
    "word = np.array([0, 1, 0, 0, 0, 0, 0, 0, 0, 1, 0])\n",
    "send = (word @ G) % 2\n",
    "send[0] ^= 1\n",
    "\n",
    "source_word, decode_flag = major_decode_algr(send, r, m)\n",
    "if(decode_flag):\n",
    "    print(\"Error can not be fixed!\")\n",
    "else:\n",
    "    print(f\"Source word: {source_word}\")\n",
    "    print(all(source_word == word))"
   ],
   "metadata": {
    "collapsed": false,
    "ExecuteTime": {
     "end_time": "2025-02-20T15:18:43.578117400Z",
     "start_time": "2025-02-20T15:18:43.518982700Z"
    }
   }
  },
  {
   "cell_type": "code",
   "execution_count": 65,
   "outputs": [
    {
     "name": "stdout",
     "output_type": "stream",
     "text": [
      "Error can not be fixed!\n"
     ]
    }
   ],
   "source": [
    "# Двукратная ошибка\n",
    "send = (word @ G) % 2\n",
    "send[0] ^= 1\n",
    "send[1] ^= 1\n",
    "\n",
    "source_word, decode_flag = major_decode_algr(send, r, m)\n",
    "\n",
    "if(decode_flag):\n",
    "    print(\"Error can not be fixed!\")\n",
    "else:\n",
    "    print(f\"Source word: {source_word}\")\n",
    "    print(all(source_word == word))"
   ],
   "metadata": {
    "collapsed": false,
    "ExecuteTime": {
     "end_time": "2025-02-20T15:18:43.578117400Z",
     "start_time": "2025-02-20T15:18:43.544061300Z"
    }
   }
  }
 ],
 "metadata": {
  "kernelspec": {
   "display_name": "Python 3",
   "language": "python",
   "name": "python3"
  },
  "language_info": {
   "codemirror_mode": {
    "name": "ipython",
    "version": 2
   },
   "file_extension": ".py",
   "mimetype": "text/x-python",
   "name": "python",
   "nbconvert_exporter": "python",
   "pygments_lexer": "ipython2",
   "version": "2.7.6"
  }
 },
 "nbformat": 4,
 "nbformat_minor": 0
}
