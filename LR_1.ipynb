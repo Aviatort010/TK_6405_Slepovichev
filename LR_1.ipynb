{
 "cells": [
  {
   "cell_type": "markdown",
   "source": [
    "\n",
    "# Теория Кодирования\n",
    "## Лабораторная работа 1\n",
    "\n",
    "От студента группы **6405**-010302\n",
    "**Слеповичева Святослава**\n",
    "\n",
    "\n",
    "---\n",
    "\n",
    "### Задание\n",
    "#### 1.1 Реализовать функцию REF(), приводящую матрицу к ступенчатому виду\n"
   ],
   "metadata": {
    "collapsed": false
   }
  },
  {
   "cell_type": "code",
   "execution_count": 353,
   "outputs": [],
   "source": [
    "# Для математических расчётов и хранения данных о матрицах\n",
    "import numpy as np\n",
    "\n",
    "# Для \"фокусов\" с пунктами 1.4\n",
    "import itertools"
   ],
   "metadata": {
    "collapsed": false,
    "ExecuteTime": {
     "end_time": "2024-12-12T00:59:06.143490100Z",
     "start_time": "2024-12-12T00:59:06.022742700Z"
    }
   }
  },
  {
   "cell_type": "code",
   "execution_count": 354,
   "outputs": [],
   "source": [
    "# Для удобства использования и приятного чтения кода,\n",
    "# в большинстве своём, используется статическое определение типа переменных,\n",
    "# которые были прописаны заранее\n",
    "\n",
    "def number_ones(current_column: np.ndarray,\n",
    "                level_column: int,\n",
    "                miss_rows: int) -> int | None:\n",
    "    '''\n",
    "    Функция, возвращающая индексы столбцов с единицами в нужной строке.\\n\n",
    "    Если в столбце нет единиц, функция возвращает None\n",
    "    :param current_column: столбец с подозрением на сокрытие единиц\n",
    "    :param level_column: откуда начать проверку (уровень глубины проверки)\n",
    "    :param miss_rows: сколько строк уже было пропущено\n",
    "    :return: индексы столбцов с единицами\n",
    "    '''\n",
    "    one_indexes = []\n",
    "\n",
    "    for level in range(len(current_column)):\n",
    "        if current_column[level] == 1:\n",
    "            one_indexes.append(level + level_column - miss_rows)\n",
    "\n",
    "    if len(one_indexes) == 0:\n",
    "        return None\n",
    "\n",
    "    return one_indexes\n",
    "\n",
    "\n",
    "def REF(x: np.ndarray) -> np.ndarray:\n",
    "    '''\n",
    "    Функция приведения матрицы к ступенчатому виду\n",
    "    :param x: матрица numpy\n",
    "    :return: ступенчатая матрица\n",
    "    '''\n",
    "    no_digit: int = 0\n",
    "\n",
    "    for col in range(x.shape[1]):\n",
    "        ones_indexes: (int | None) = number_ones(x[col - no_digit:, col],\n",
    "                                                 col,\n",
    "                                                 no_digit)\n",
    "        if ones_indexes is None:\n",
    "            no_digit += 1\n",
    "            continue\n",
    "        if len(ones_indexes) == 1:\n",
    "            x[[ones_indexes[0], col - no_digit], :] = x[[col - no_digit, ones_indexes[0]], :]\n",
    "        elif len(ones_indexes) > 1:\n",
    "            x[[ones_indexes[0], col - no_digit]] = x[[col - no_digit, ones_indexes[0]]]\n",
    "            for i in ones_indexes[1:]:\n",
    "                x[i] += x[col - no_digit]\n",
    "                for j in range(len(x[col])):\n",
    "                    if x[i, j] == 2: x[i, j] = 0\n",
    "    return x"
   ],
   "metadata": {
    "collapsed": false,
    "ExecuteTime": {
     "end_time": "2024-12-12T00:59:06.241787500Z",
     "start_time": "2024-12-12T00:59:06.030755600Z"
    }
   }
  },
  {
   "cell_type": "markdown",
   "source": [
    "#### 1.2. Реализовать функцию RREF(), приводящую матрицу к приведённому ступенчатому виду."
   ],
   "metadata": {
    "collapsed": false
   }
  },
  {
   "cell_type": "code",
   "execution_count": 355,
   "outputs": [],
   "source": [
    "\n",
    "def first_one(row: np.ndarray) -> int | None:\n",
    "    '''\n",
    "    Функция поиска индекса первой пойманной единицы в строке\n",
    "    :param row: строка для поиска\n",
    "    :return: индекс пойманной единицы или None, если единиц не обнаружено\n",
    "    '''\n",
    "    for i in range(len(row)):\n",
    "        if row[i] == 1:\n",
    "            return i\n",
    "    return None\n",
    "\n",
    "\n",
    "def RREF(x: np.ndarray) -> np.ndarray:\n",
    "    '''\n",
    "    Функция приведения матрицы к приведённому ступенчатому виду\n",
    "    :param x: матрица numpy\n",
    "    :return: приведённая ступенчатая матрица\n",
    "    '''\n",
    "    # Приводим данную нам матрицу уже знакомым нам методом\n",
    "    x = REF(x)\n",
    "\n",
    "    for col in range(x.shape[0]):\n",
    "        first_one_index: int | None = first_one(x[col])\n",
    "\n",
    "        if first_one_index is None:\n",
    "            x = np.delete(x, np.s_[col:], axis=0)\n",
    "            break\n",
    "\n",
    "        for i in range(x.shape[0]):\n",
    "            if (x[i, first_one_index] == 1) and (i != col):\n",
    "                x[i] += x[col]\n",
    "                for j in range(len(x[col])):\n",
    "                    if x[i, j] == 2: x[i, j] = 0\n",
    "    return x\n"
   ],
   "metadata": {
    "collapsed": false,
    "ExecuteTime": {
     "end_time": "2024-12-12T00:59:06.242759Z",
     "start_time": "2024-12-12T00:59:06.037864800Z"
    }
   }
  },
  {
   "cell_type": "markdown",
   "source": [
    "#### 1.3. Создать класс линейных кодов LinearCode.\n",
    "##### 1.3.1 На основе входной матрицы сформировать порождающую матрицу в ступенчатом виде."
   ],
   "metadata": {
    "collapsed": false
   }
  },
  {
   "cell_type": "code",
   "execution_count": 356,
   "outputs": [],
   "source": [
    "linear_code = np.array(\n",
    "    [[1, 0, 1, 1, 0, 0, 0, 1, 0, 0, 1],\n",
    "     [0, 0, 0, 1, 1, 1, 0, 1, 0, 1, 0],\n",
    "     [0, 0, 0, 0, 1, 0, 0, 1, 0, 0, 1],\n",
    "     [0, 0, 0, 0, 0, 0, 1, 0, 0, 1, 0],\n",
    "     [0, 0, 0, 0, 0, 0, 0, 0, 1, 1, 1]])\n",
    "\n",
    "matrix_code = REF(linear_code)\n",
    "\n",
    "\n",
    "# Избавимся от \"лишних\", полностью нулевых строк\n",
    "for i in range(matrix_code.shape[0]):\n",
    "    if sum(matrix_code[i]) == 0:\n",
    "        matrix_code = np.delete(matrix_code, np.s_[i:], axis=0)\n",
    "        break"
   ],
   "metadata": {
    "collapsed": false,
    "ExecuteTime": {
     "end_time": "2024-12-12T00:59:06.243786900Z",
     "start_time": "2024-12-12T00:59:06.076595Z"
    }
   }
  },
  {
   "cell_type": "markdown",
   "source": [
    "##### 1.3.2 Задать n равное числу столбцов и k равное числу строк полученной матрицы\n",
    "(без учёта полностью нулевых строк)."
   ],
   "metadata": {
    "collapsed": false
   }
  },
  {
   "cell_type": "code",
   "execution_count": 357,
   "outputs": [],
   "source": [
    "k, n = matrix_code.shape"
   ],
   "metadata": {
    "collapsed": false,
    "ExecuteTime": {
     "end_time": "2024-12-12T00:59:06.243786900Z",
     "start_time": "2024-12-12T00:59:06.076595Z"
    }
   }
  },
  {
   "cell_type": "markdown",
   "source": [
    "##### 1.3.3 Сформировать проверочную матрицу на основе порождающей."
   ],
   "metadata": {
    "collapsed": false
   }
  },
  {
   "cell_type": "code",
   "execution_count": 358,
   "outputs": [
    {
     "name": "stdout",
     "output_type": "stream",
     "text": [
      "[[0 1 1 1 1 0]\n",
      " [1 0 0 0 0 0]\n",
      " [0 1 0 0 0 0]\n",
      " [0 0 1 0 1 1]\n",
      " [0 0 0 1 0 1]\n",
      " [0 0 1 0 0 0]\n",
      " [0 0 0 0 1 0]\n",
      " [0 0 0 1 0 0]\n",
      " [0 0 0 0 1 1]\n",
      " [0 0 0 0 1 0]\n",
      " [0 0 0 0 0 1]]\n"
     ]
    }
   ],
   "source": [
    "\n",
    "# Шаг 1. Сформировать матрицу 𝐆∗ в приведённом ступенчатом виде на основе порождающей.\n",
    "g_matrix = RREF(matrix_code)\n",
    "\n",
    "# Шаг 2. Зафиксировать ведущие столбцы lead матрицы 𝐆∗.\n",
    "lead_columns = []\n",
    "for i in range(k):\n",
    "    for j in range(n):\n",
    "        if g_matrix[i, j] == 1:\n",
    "            lead_columns.append(j)\n",
    "            break\n",
    "\n",
    "# Шаг 3. Сформировать сокращённую матрицу 𝐗,\n",
    "# удалив ведущие столбцы матрицы 𝐆∗.\n",
    "x_matrix = np.delete(g_matrix, lead_columns, axis=1)\n",
    "\n",
    "# Шаг 4. Сформировать матрицу 𝐇, поместив в строки,\n",
    "# соответствующие позициям ведущих столбцов строки из 𝐗,\n",
    "# а в остальные – строки единичной матрицы.\n",
    "h_matrix = np.zeros((n, n - k), dtype=int)\n",
    "\n",
    "x_matrix_col: int = 0\n",
    "one_matrix_col: int = 0\n",
    "\n",
    "for i in range(h_matrix.shape[0]):\n",
    "    if i in lead_columns:\n",
    "        h_matrix[i] = x_matrix[x_matrix_col].copy()\n",
    "        x_matrix_col += 1\n",
    "    else:\n",
    "        h_matrix[i, one_matrix_col] = 1\n",
    "        one_matrix_col += 1\n",
    "\n",
    "print(h_matrix)"
   ],
   "metadata": {
    "collapsed": false,
    "ExecuteTime": {
     "end_time": "2024-12-12T00:59:06.243786900Z",
     "start_time": "2024-12-12T00:59:06.077612800Z"
    }
   }
  },
  {
   "cell_type": "markdown",
   "source": [
    "#### 1.4. Сформировать все кодовые слова длины n двумя способами.\n",
    "##### 1.4.1 Сложить все слова из порождающего множества, оставить неповторяющиеся."
   ],
   "metadata": {
    "collapsed": false
   }
  },
  {
   "cell_type": "code",
   "execution_count": 359,
   "outputs": [
    {
     "name": "stdout",
     "output_type": "stream",
     "text": [
      "[1 0 1 1 0 0 0 1 0 0 1]\n",
      "[1 0 1 0 1 1 0 0 0 1 1]\n",
      "[1 0 1 0 0 1 1 1 0 0 0]\n",
      "[1 0 1 0 0 1 0 1 1 0 1]\n",
      "[0 0 0 1 1 1 0 1 0 1 0]\n",
      "[0 0 0 1 0 1 1 0 0 0 1]\n",
      "[0 0 0 1 0 1 0 0 1 0 0]\n",
      "[0 0 0 0 1 0 1 1 0 1 1]\n",
      "[0 0 0 0 1 0 0 1 1 1 0]\n",
      "[0 0 0 0 0 0 1 0 1 0 1]\n",
      "[1 0 1 1 1 0 0 0 0 0 0]\n",
      "[1 0 1 1 0 0 1 1 0 1 1]\n",
      "[1 0 1 1 0 0 0 1 1 1 0]\n",
      "[1 0 1 0 1 1 1 0 0 0 1]\n",
      "[1 0 1 0 1 1 0 0 1 0 0]\n",
      "[1 0 1 0 0 1 1 1 1 1 1]\n",
      "[0 0 0 1 1 1 1 1 0 0 0]\n",
      "[0 0 0 1 1 1 0 1 1 0 1]\n",
      "[0 0 0 1 0 1 1 0 1 1 0]\n",
      "[0 0 0 0 1 0 1 1 1 0 0]\n",
      "[1 0 1 1 1 0 1 0 0 1 0]\n",
      "[1 0 1 1 1 0 0 0 1 1 1]\n",
      "[1 0 1 1 0 0 1 1 1 0 0]\n",
      "[1 0 1 0 1 1 1 0 1 1 0]\n",
      "[0 0 0 1 1 1 1 1 1 1 1]\n",
      "[1 0 1 1 1 0 1 0 1 0 1]\n"
     ]
    }
   ],
   "source": [
    "\n",
    "indexes = []\n",
    "for i in range(2, matrix_code.shape[0] + 1):\n",
    "    indexes.extend(itertools.combinations(range(matrix_code.shape[0]), i))\n",
    "\n",
    "\n",
    "key_words = [*np.zeros((1, matrix_code.shape[1]), dtype=int), *matrix_code[:]]\n",
    "for el in indexes:\n",
    "    summ = np.zeros((1, matrix_code.shape[1]), dtype=int)\n",
    "\n",
    "    for i in range(len(el)):\n",
    "        summ += matrix_code[el[i]]\n",
    "\n",
    "    for i in range(len(summ)):\n",
    "        summ[i] %= 2\n",
    "\n",
    "    key_words.append(*summ)\n",
    "    print(key_words[-1])\n",
    "\n"
   ],
   "metadata": {
    "collapsed": false,
    "ExecuteTime": {
     "end_time": "2024-12-12T00:59:06.246784100Z",
     "start_time": "2024-12-12T00:59:06.088607700Z"
    }
   }
  },
  {
   "cell_type": "code",
   "execution_count": 360,
   "outputs": [
    {
     "data": {
      "text/plain": "{(0, 0, 0, 0, 0, 0, 0, 0, 0, 0, 0),\n (0, 0, 0, 0, 0, 0, 0, 0, 1, 1, 1),\n (0, 0, 0, 0, 0, 0, 1, 0, 0, 1, 0),\n (0, 0, 0, 0, 0, 0, 1, 0, 1, 0, 1),\n (0, 0, 0, 0, 1, 0, 0, 1, 0, 0, 1),\n (0, 0, 0, 0, 1, 0, 0, 1, 1, 1, 0),\n (0, 0, 0, 0, 1, 0, 1, 1, 0, 1, 1),\n (0, 0, 0, 0, 1, 0, 1, 1, 1, 0, 0),\n (0, 0, 0, 1, 0, 1, 0, 0, 0, 1, 1),\n (0, 0, 0, 1, 0, 1, 0, 0, 1, 0, 0),\n (0, 0, 0, 1, 0, 1, 1, 0, 0, 0, 1),\n (0, 0, 0, 1, 0, 1, 1, 0, 1, 1, 0),\n (0, 0, 0, 1, 1, 1, 0, 1, 0, 1, 0),\n (0, 0, 0, 1, 1, 1, 0, 1, 1, 0, 1),\n (0, 0, 0, 1, 1, 1, 1, 1, 0, 0, 0),\n (0, 0, 0, 1, 1, 1, 1, 1, 1, 1, 1),\n (1, 0, 1, 0, 0, 1, 0, 1, 0, 1, 0),\n (1, 0, 1, 0, 0, 1, 0, 1, 1, 0, 1),\n (1, 0, 1, 0, 0, 1, 1, 1, 0, 0, 0),\n (1, 0, 1, 0, 0, 1, 1, 1, 1, 1, 1),\n (1, 0, 1, 0, 1, 1, 0, 0, 0, 1, 1),\n (1, 0, 1, 0, 1, 1, 0, 0, 1, 0, 0),\n (1, 0, 1, 0, 1, 1, 1, 0, 0, 0, 1),\n (1, 0, 1, 0, 1, 1, 1, 0, 1, 1, 0),\n (1, 0, 1, 1, 0, 0, 0, 1, 0, 0, 1),\n (1, 0, 1, 1, 0, 0, 0, 1, 1, 1, 0),\n (1, 0, 1, 1, 0, 0, 1, 1, 0, 1, 1),\n (1, 0, 1, 1, 0, 0, 1, 1, 1, 0, 0),\n (1, 0, 1, 1, 1, 0, 0, 0, 0, 0, 0),\n (1, 0, 1, 1, 1, 0, 0, 0, 1, 1, 1),\n (1, 0, 1, 1, 1, 0, 1, 0, 0, 1, 0),\n (1, 0, 1, 1, 1, 0, 1, 0, 1, 0, 1)}"
     },
     "execution_count": 360,
     "metadata": {},
     "output_type": "execute_result"
    }
   ],
   "source": [
    "# Список ключевых слов\n",
    "key_words_tuple = []\n",
    "for elmt in key_words:\n",
    "    key_words_tuple.append(tuple(elmt))\n",
    "\n",
    "# Оставим только уникальные ключевые слова\n",
    "unic_key_words = set(key_words_tuple)\n",
    "\n",
    "unic_key_words"
   ],
   "metadata": {
    "collapsed": false,
    "ExecuteTime": {
     "end_time": "2024-12-12T00:59:06.256784500Z",
     "start_time": "2024-12-12T00:59:06.098817Z"
    }
   }
  },
  {
   "cell_type": "markdown",
   "source": [
    "##### 1.4.2 Взять все двоичные слова длины k, умножить каждое на G."
   ],
   "metadata": {
    "collapsed": false
   }
  },
  {
   "cell_type": "code",
   "execution_count": 361,
   "outputs": [
    {
     "name": "stdout",
     "output_type": "stream",
     "text": [
      "True\n"
     ]
    }
   ],
   "source": [
    "\n",
    "all_key_words = itertools.product(range(2), repeat=k)\n",
    "\n",
    "all_key_words_res = []\n",
    "for elmt in all_key_words:\n",
    "    result = np.array(elmt).dot(matrix_code)\n",
    "    for i in range(len(result)):\n",
    "        result[i] %= 2\n",
    "    all_key_words_res.append(result)\n",
    "\n",
    "\n",
    "all_key_words_result = []\n",
    "for elmt in all_key_words_res:\n",
    "    all_key_words_result.append(tuple(elmt))\n",
    "all_key_words_result = set(all_key_words_result)\n",
    "\n",
    "# Проверка на совпадение списков слов\n",
    "print(unic_key_words == all_key_words_result)\n"
   ],
   "metadata": {
    "collapsed": false,
    "ExecuteTime": {
     "end_time": "2024-12-12T00:59:06.258806800Z",
     "start_time": "2024-12-12T00:59:06.112528300Z"
    }
   }
  },
  {
   "cell_type": "code",
   "execution_count": 362,
   "outputs": [
    {
     "data": {
      "text/plain": "True"
     },
     "execution_count": 362,
     "metadata": {},
     "output_type": "execute_result"
    }
   ],
   "source": [
    "# Проверка нулевых векторов при перемножении\n",
    "mult = [elmt.dot(h_matrix) for elmt in key_words]\n",
    "\n",
    "for elmt in mult:\n",
    "    for i in range(len(elmt)): elmt[i] %= 2\n",
    "\n",
    "\n",
    "all([(elmt == np.zeros((1, n - k), dtype=int)).all() for elmt in mult])"
   ],
   "metadata": {
    "collapsed": false,
    "ExecuteTime": {
     "end_time": "2024-12-12T00:59:06.259747200Z",
     "start_time": "2024-12-12T00:59:06.120080400Z"
    }
   }
  },
  {
   "cell_type": "markdown",
   "source": [
    "#### 1.4 Вычислить кодовое расстояние получившегося кода."
   ],
   "metadata": {
    "collapsed": false
   }
  },
  {
   "cell_type": "code",
   "execution_count": 363,
   "outputs": [
    {
     "name": "stdout",
     "output_type": "stream",
     "text": [
      "Code distance = 2\n"
     ]
    }
   ],
   "source": [
    "# То есть найти наименьшую длину кодового слова, при этом не равного нулю.\n",
    "d = n\n",
    "for elmt in all_key_words_result:\n",
    "    summ = sum(elmt)\n",
    "    if (summ < d) and (summ != 0):\n",
    "        d = summ\n",
    "\n",
    "print(f\"Code distance = {d}\")"
   ],
   "metadata": {
    "collapsed": false,
    "ExecuteTime": {
     "end_time": "2024-12-12T00:59:06.260780Z",
     "start_time": "2024-12-12T00:59:06.129816Z"
    }
   }
  },
  {
   "cell_type": "markdown",
   "source": [
    "##### 1.4.1 Внести в кодовое слово ошибку кратности не более t, умножить полученное слово на H, убедиться в обнаружении ошибки."
   ],
   "metadata": {
    "collapsed": false
   }
  },
  {
   "cell_type": "code",
   "execution_count": 364,
   "outputs": [
    {
     "name": "stdout",
     "output_type": "stream",
     "text": [
      "Detected error's multiplicity: 1\n"
     ]
    }
   ],
   "source": [
    "# t - error - ошибка\n",
    "t = d - 1\n",
    "\n",
    "print(f\"Detected error's multiplicity: {t}\")"
   ],
   "metadata": {
    "collapsed": false,
    "ExecuteTime": {
     "end_time": "2024-12-12T00:59:06.261775400Z",
     "start_time": "2024-12-12T00:59:06.135381500Z"
    }
   }
  },
  {
   "cell_type": "code",
   "execution_count": 365,
   "outputs": [
    {
     "name": "stdout",
     "output_type": "stream",
     "text": [
      "element = [0 0 0 0 0 0 0 0 0 0 0]\n",
      "error = [1 0 0 0 0 0 0 0 0 0 0]\n",
      "error mult h_matrix = [0 1 1 1 1 0]\n"
     ]
    }
   ],
   "source": [
    "for elmt in key_words:\n",
    "    for i in range(len(elmt)):\n",
    "        err = elmt.copy()\n",
    "        err[i] = 1 if err[i] == 0 else 0\n",
    "\n",
    "        if sum(err.dot(h_matrix)) != 0:\n",
    "            print(f\"element = {elmt}\")\n",
    "            print(f\"error = {err}\")\n",
    "            print(f\"error mult h_matrix = {err.dot(h_matrix)}\")\n",
    "            break\n",
    "        else:\n",
    "            continue\n",
    "    break"
   ],
   "metadata": {
    "collapsed": false,
    "ExecuteTime": {
     "end_time": "2024-12-12T00:59:06.261775400Z",
     "start_time": "2024-12-12T00:59:06.143490100Z"
    }
   }
  },
  {
   "cell_type": "markdown",
   "source": [
    "##### 1.4.2 Найти для некоторого кодового слова ошибку кратности t+1 такую, что при умножении на H ошибка не может быть обнаружена."
   ],
   "metadata": {
    "collapsed": false
   }
  },
  {
   "cell_type": "code",
   "execution_count": 366,
   "outputs": [
    {
     "name": "stdout",
     "output_type": "stream",
     "text": [
      "el: [0 0 0 0 0 0 1 0 0 1 0]\n",
      "error: [0 0 0 0 0 0 0 0 0 0 0]\n",
      "error * h_matrix: [0 0 0 0 0 0]\n"
     ]
    }
   ],
   "source": [
    "for elmt in key_words:\n",
    "    for i in range(len(elmt)):\n",
    "        for j in range(len(elmt)):\n",
    "            err = elmt.copy()\n",
    "\n",
    "            if i != j:\n",
    "                err[i] = 1 if err[i] == 0 else 0\n",
    "\n",
    "                err[j] = 1 if err[j] == 0 else 0\n",
    "\n",
    "                if sum(err.dot(h_matrix)) == 0:\n",
    "                    print(f\"el: {elmt}\")\n",
    "                    print(f\"error: {err}\")\n",
    "                    print(f\"error * h_matrix: {err.dot(h_matrix)}\")\n",
    "                    break\n",
    "        else:\n",
    "            continue\n",
    "        break\n",
    "    else:\n",
    "        continue\n",
    "    break"
   ],
   "metadata": {
    "collapsed": false,
    "ExecuteTime": {
     "end_time": "2024-12-12T00:59:06.261775400Z",
     "start_time": "2024-12-12T00:59:06.152058Z"
    }
   }
  },
  {
   "cell_type": "markdown",
   "source": [
    "Объяснение \"невидимости\":\n",
    "1) Ошибки будут видны только те, которые меньше дистанции на один (d - 1),\n",
    "2) Если H (h_matrix) - проверочная матрица линейного кода C (linear_code) длины n,\n",
    "тогда C состоит из всех слов $v ∈ K_n$ таких, что $v$H=0.\n",
    "Тогда если err - слово с ошибкой кратности t и $err⋅H≠0$,\n",
    "тогда err обнаружится, иначе - нет."
   ],
   "metadata": {
    "collapsed": false
   }
  },
  {
   "cell_type": "code",
   "execution_count": 366,
   "outputs": [],
   "source": [],
   "metadata": {
    "collapsed": false,
    "ExecuteTime": {
     "end_time": "2024-12-12T00:59:06.271301600Z",
     "start_time": "2024-12-12T00:59:06.162198500Z"
    }
   }
  }
 ],
 "metadata": {
  "kernelspec": {
   "display_name": "Python 3",
   "language": "python",
   "name": "python3"
  },
  "language_info": {
   "codemirror_mode": {
    "name": "ipython",
    "version": 2
   },
   "file_extension": ".py",
   "mimetype": "text/x-python",
   "name": "python",
   "nbconvert_exporter": "python",
   "pygments_lexer": "ipython2",
   "version": "2.7.6"
  }
 },
 "nbformat": 4,
 "nbformat_minor": 0
}
