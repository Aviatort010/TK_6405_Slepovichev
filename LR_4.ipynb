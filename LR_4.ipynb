{
 "cells": [
  {
   "cell_type": "markdown",
   "source": [
    "\n",
    "# Теория Кодирования\n",
    "## Лабораторная работа 4\n",
    "\n",
    "От студента группы **6405**-010302\n",
    "**Слеповичева Святослава**\n",
    "\n",
    "\n",
    "---\n",
    "\n",
    "### Задание\n",
    "#### 4.1 Написать функцию формирования порождающей и проверочной матриц расширенного кода Голея.\n"
   ],
   "metadata": {
    "collapsed": false
   }
  },
  {
   "cell_type": "code",
   "execution_count": 130,
   "outputs": [],
   "source": [
    "import numpy as np\n",
    "from itertools import product"
   ],
   "metadata": {
    "collapsed": false,
    "ExecuteTime": {
     "end_time": "2025-02-20T15:02:20.758448200Z",
     "start_time": "2025-02-20T15:02:20.664846200Z"
    }
   }
  },
  {
   "cell_type": "code",
   "execution_count": 131,
   "outputs": [],
   "source": [
    "def generate_golay_matrices():\n",
    "    B = np.array([\n",
    "        [1, 1, 0, 1, 1, 1, 0, 0, 0, 1, 0, 1],\n",
    "        [1, 0, 1, 1, 1, 0, 0, 0, 1, 0, 1, 1],\n",
    "        [0, 1, 1, 1, 0, 0, 0, 1, 0, 1, 1, 1],\n",
    "        [1, 1, 1, 0, 0, 0, 1, 0, 1, 1, 0, 1],\n",
    "        [1, 1, 0, 0, 0, 1, 0, 1, 1, 0, 1, 1],\n",
    "        [1, 0, 0, 0, 1, 0, 1, 1, 0, 1, 1, 1],\n",
    "        [0, 0, 0, 1, 0, 1, 1, 0, 1, 1, 1, 1],\n",
    "        [0, 0, 1, 0, 1, 1, 0, 1, 1, 1, 0, 1],\n",
    "        [0, 1, 0, 1, 1, 0, 1, 1, 1, 0, 0, 1],\n",
    "        [1, 0, 1, 1, 0, 1, 1, 1, 0, 0, 0, 1],\n",
    "        [0, 1, 1, 0, 1, 1, 1, 0, 0, 0, 1, 1],\n",
    "        [1, 1, 1, 1, 1, 1, 1, 1, 1, 1, 1, 0]\n",
    "    ])\n",
    "\n",
    "    G = np.hstack((np.eye(12, dtype=int), B))\n",
    "\n",
    "    H = np.vstack((np.eye(12, dtype=int), B))\n",
    "\n",
    "    return G, H, B"
   ],
   "metadata": {
    "collapsed": false,
    "ExecuteTime": {
     "end_time": "2025-02-20T15:02:20.860424200Z",
     "start_time": "2025-02-20T15:02:20.674976800Z"
    }
   }
  },
  {
   "cell_type": "code",
   "execution_count": 132,
   "outputs": [
    {
     "name": "stdout",
     "output_type": "stream",
     "text": [
      "Generator matrix G:\n",
      " [[1 0 0 0 0 0 0 0 0 0 0 0 1 1 0 1 1 1 0 0 0 1 0 1]\n",
      " [0 1 0 0 0 0 0 0 0 0 0 0 1 0 1 1 1 0 0 0 1 0 1 1]\n",
      " [0 0 1 0 0 0 0 0 0 0 0 0 0 1 1 1 0 0 0 1 0 1 1 1]\n",
      " [0 0 0 1 0 0 0 0 0 0 0 0 1 1 1 0 0 0 1 0 1 1 0 1]\n",
      " [0 0 0 0 1 0 0 0 0 0 0 0 1 1 0 0 0 1 0 1 1 0 1 1]\n",
      " [0 0 0 0 0 1 0 0 0 0 0 0 1 0 0 0 1 0 1 1 0 1 1 1]\n",
      " [0 0 0 0 0 0 1 0 0 0 0 0 0 0 0 1 0 1 1 0 1 1 1 1]\n",
      " [0 0 0 0 0 0 0 1 0 0 0 0 0 0 1 0 1 1 0 1 1 1 0 1]\n",
      " [0 0 0 0 0 0 0 0 1 0 0 0 0 1 0 1 1 0 1 1 1 0 0 1]\n",
      " [0 0 0 0 0 0 0 0 0 1 0 0 1 0 1 1 0 1 1 1 0 0 0 1]\n",
      " [0 0 0 0 0 0 0 0 0 0 1 0 0 1 1 0 1 1 1 0 0 0 1 1]\n",
      " [0 0 0 0 0 0 0 0 0 0 0 1 1 1 1 1 1 1 1 1 1 1 1 0]]\n",
      "\n",
      "Parity-check matrix H:\n",
      " [[1 0 0 0 0 0 0 0 0 0 0 0]\n",
      " [0 1 0 0 0 0 0 0 0 0 0 0]\n",
      " [0 0 1 0 0 0 0 0 0 0 0 0]\n",
      " [0 0 0 1 0 0 0 0 0 0 0 0]\n",
      " [0 0 0 0 1 0 0 0 0 0 0 0]\n",
      " [0 0 0 0 0 1 0 0 0 0 0 0]\n",
      " [0 0 0 0 0 0 1 0 0 0 0 0]\n",
      " [0 0 0 0 0 0 0 1 0 0 0 0]\n",
      " [0 0 0 0 0 0 0 0 1 0 0 0]\n",
      " [0 0 0 0 0 0 0 0 0 1 0 0]\n",
      " [0 0 0 0 0 0 0 0 0 0 1 0]\n",
      " [0 0 0 0 0 0 0 0 0 0 0 1]\n",
      " [1 1 0 1 1 1 0 0 0 1 0 1]\n",
      " [1 0 1 1 1 0 0 0 1 0 1 1]\n",
      " [0 1 1 1 0 0 0 1 0 1 1 1]\n",
      " [1 1 1 0 0 0 1 0 1 1 0 1]\n",
      " [1 1 0 0 0 1 0 1 1 0 1 1]\n",
      " [1 0 0 0 1 0 1 1 0 1 1 1]\n",
      " [0 0 0 1 0 1 1 0 1 1 1 1]\n",
      " [0 0 1 0 1 1 0 1 1 1 0 1]\n",
      " [0 1 0 1 1 0 1 1 1 0 0 1]\n",
      " [1 0 1 1 0 1 1 1 0 0 0 1]\n",
      " [0 1 1 0 1 1 1 0 0 0 1 1]\n",
      " [1 1 1 1 1 1 1 1 1 1 1 0]]\n"
     ]
    }
   ],
   "source": [
    "G, H, B = generate_golay_matrices()\n",
    "print(\"Generator matrix G:\\n\", G)\n",
    "print(\"\\nParity-check matrix H:\\n\", H)"
   ],
   "metadata": {
    "collapsed": false,
    "ExecuteTime": {
     "end_time": "2025-02-20T15:02:20.861418900Z",
     "start_time": "2025-02-20T15:02:20.679996Z"
    }
   }
  },
  {
   "cell_type": "markdown",
   "source": [
    "---\n",
    "#### 4.2. Провести исследование расширенного кода Голея для одно-, двух-, трёх- и четырёхкратных ошибок.\n"
   ],
   "metadata": {
    "collapsed": false
   }
  },
  {
   "cell_type": "code",
   "execution_count": 133,
   "outputs": [
    {
     "name": "stdout",
     "output_type": "stream",
     "text": [
      "Original message: [0 1 1 1 1 1 1 1 1 0 1 1]\n",
      "Codeword: [0 1 1 1 1 1 1 1 1 0 1 1 1 0 0 1 0 1 0 0 1 0 1 1]\n",
      "\n",
      "Number of errors: 1\n",
      "Received with errors: [0 1 1 1 1 1 1 1 1 0 1 1 1 0 0 1 0 1 0 0 1 1 1 1]\n",
      "Syndrome: [1 0 1 1 0 1 1 1 0 0 0 1]\n",
      "Source word: [0 1 1 1 1 1 1 1 1 0 1 1]\n",
      "\n",
      "Number of errors: 2\n",
      "Received with errors: [0 1 1 1 0 1 1 1 1 0 1 1 1 0 0 1 1 1 0 0 1 0 1 1]\n",
      "Syndrome: [1 1 0 0 1 1 0 1 1 0 1 1]\n",
      "Source word: [0 1 1 1 1 1 1 1 1 0 1 1]\n",
      "\n",
      "Number of errors: 3\n",
      "Received with errors: [0 0 1 1 1 0 1 1 1 0 0 1 1 0 0 1 0 1 0 0 1 0 1 1]\n",
      "Syndrome: [0 1 0 0 0 1 0 0 0 0 1 0]\n",
      "Source word: [0 1 1 1 1 1 1 1 1 0 1 1]\n",
      "\n",
      "Number of errors: 4\n",
      "Received with errors: [1 1 1 1 0 1 1 0 1 0 0 1 1 0 0 1 0 1 0 0 1 0 1 1]\n",
      "Syndrome: [1 0 0 0 1 0 0 1 0 0 1 0]\n",
      "Error found but can not be fixed\n"
     ]
    }
   ],
   "source": [
    "def simulate_errors(codeword, num_errors):\n",
    "    \"\"\"\n",
    "    Функция, имитирующая внесение ошибок в кодовое слово\n",
    "    :param codeword: исходное кодовое слово\n",
    "    :param num_errors: количество ошибок, которые нужно внести\n",
    "    :return: кодовое слово с внесенными ошибками\n",
    "    \"\"\"\n",
    "    codeword_with_errors = codeword.copy()\n",
    "    error_positions = np.random.choice(len(codeword), num_errors, replace=False)\n",
    "    for pos in error_positions:\n",
    "        codeword_with_errors[pos] ^= 1  # Flip the bit\n",
    "    return codeword_with_errors\n",
    "\n",
    "\n",
    "def syndrome_decode(received, H):\n",
    "    \"\"\"\n",
    "    Функция, выполняющая синдромное декодирование для обнаружения и исправления ошибок\n",
    "    :param received: принятое слово, которое может содержать ошибки\n",
    "    :param H: проверочная матрица кода\n",
    "    :return: синдром, вычисленный для принятого слова\n",
    "    \"\"\"\n",
    "    syndrome = np.dot(received, H) % 2\n",
    "    return syndrome\n",
    "\n",
    "\n",
    "def research_golay_errors(G, H):\n",
    "    \"\"\"\n",
    "    Ф-я исследует способность кода Голея исправлять ошибки\n",
    "    :param G: порождающая матрица кода Голея\n",
    "    :param H: И его проверочная матрица\n",
    "    \"\"\"\n",
    "    message = np.random.randint(2, size=12)\n",
    "    codeword = np.dot(message, G) % 2\n",
    "\n",
    "    print(f\"Original message: {message}\")\n",
    "    print(f\"Codeword: {codeword}\")\n",
    "\n",
    "    words = [[0, 1] for _ in range(12)]\n",
    "    words = np.array(list(product(*words)))\n",
    "\n",
    "    words_dict = dict()\n",
    "\n",
    "    for el in words:\n",
    "        words_dict[np.array_str((el @ G) % 2)] = el\n",
    "\n",
    "    for num_errors in range(1, 5):\n",
    "        print(f\"\\nNumber of errors: {num_errors}\")\n",
    "        received_with_errors = simulate_errors(codeword, num_errors)\n",
    "        print(f\"Received with errors: {received_with_errors}\")\n",
    "\n",
    "        syndrome = np.array(syndrome_decode(received_with_errors, H))\n",
    "        print(f\"Syndrome: {syndrome}\")\n",
    "\n",
    "        u = np.array([])\n",
    "        if sum(syndrome) <= 3:\n",
    "            u = np.hstack((syndrome, np.zeros(12, dtype=int)))\n",
    "        else:\n",
    "            for i in range(B.shape[0]):\n",
    "                if sum((syndrome + B[i]) % 2) <= 2:\n",
    "                    e_i = np.zeros(12, dtype=int)\n",
    "                    e_i[i] = 1\n",
    "                    u = np.hstack(((syndrome + B[i]) % 2, e_i))\n",
    "                    break\n",
    "        if u.size == 0:\n",
    "            syndrome_2 = (syndrome @ B) % 2\n",
    "            if sum(syndrome_2) <= 3:\n",
    "                u = np.hstack((np.zeros(12, dtype=int), syndrome_2))\n",
    "            else:\n",
    "                for i in range(B.shape[0]):\n",
    "                    if sum((syndrome_2 + B[i]) % 2) <= 2:\n",
    "                        e_i = np.zeros(12, dtype=int)\n",
    "                        e_i[i] = 1\n",
    "                        u = np.hstack((e_i, (syndrome_2 + B[i]) % 2))\n",
    "                        break\n",
    "\n",
    "        if u.size != 0:\n",
    "            print(f\"Source word: {words_dict[np.array_str((received_with_errors + u) % 2)]}\")\n",
    "        else:\n",
    "            print(\"Error found but can not be fixed\")\n",
    "\n",
    "\n",
    "research_golay_errors(G, H)"
   ],
   "metadata": {
    "collapsed": false,
    "ExecuteTime": {
     "end_time": "2025-02-20T15:02:21.089828300Z",
     "start_time": "2025-02-20T15:02:20.729487500Z"
    }
   }
  },
  {
   "cell_type": "markdown",
   "source": [
    "---\n",
    "#### 4.3 Написать функцию формирования порождающей и проверочных матриц кода Рида-Маллера 𝑅𝑀(𝑟,𝑚) на основе параметров 𝑟 и 𝑚."
   ],
   "metadata": {
    "collapsed": false
   }
  },
  {
   "cell_type": "code",
   "execution_count": 134,
   "outputs": [],
   "source": [
    "def ReedMayer_G(r, m):\n",
    "    if r == 0:\n",
    "        return np.ones((1, 2**m), dtype=int)\n",
    "    if r == m:\n",
    "        return np.vstack((ReedMayer_G(m - 1, m), np.array([0 for _ in range(2 ** m - 1)] + [1])))\n",
    "\n",
    "    mat = ReedMayer_G(r, m - 1)\n",
    "    m2 = ReedMayer_G(r - 1, m - 1)\n",
    "    return np.vstack((np.hstack((mat, mat)), np.hstack((np.zeros((m2.shape[0], mat.shape[1]), dtype=int), m2))))\n",
    "\n",
    "\n",
    "r, m = 1, 3\n",
    "\n",
    "Hs = []\n",
    "H = np.array([[1, 1], [1, -1]])\n",
    "for i in range(1, m + 1):\n",
    "    Hs.append(np.kron(np.kron(np.eye(int(2**(m - i)), dtype=int), H), np.eye(int(2**(i - 1)), dtype=int)))\n"
   ],
   "metadata": {
    "collapsed": false,
    "ExecuteTime": {
     "end_time": "2025-02-20T15:02:21.098532900Z",
     "start_time": "2025-02-20T15:02:21.094826900Z"
    }
   }
  },
  {
   "cell_type": "markdown",
   "source": [
    "---\n",
    "#### 4.4. Провести исследование кода Рида-Маллера 𝑅𝑀(1,3) для одно- и двукратных ошибок."
   ],
   "metadata": {
    "collapsed": false
   }
  },
  {
   "cell_type": "code",
   "execution_count": 135,
   "outputs": [
    {
     "data": {
      "text/plain": "array([[0, 0, 0, 0, 0, 0, 0, 0],\n       [0, 0, 0, 0, 1, 1, 1, 1],\n       [0, 0, 1, 1, 0, 0, 1, 1],\n       [0, 0, 1, 1, 1, 1, 0, 0],\n       [0, 1, 0, 1, 0, 1, 0, 1],\n       [0, 1, 0, 1, 1, 0, 1, 0],\n       [0, 1, 1, 0, 0, 1, 1, 0],\n       [0, 1, 1, 0, 1, 0, 0, 1],\n       [1, 1, 1, 1, 1, 1, 1, 1],\n       [1, 1, 1, 1, 0, 0, 0, 0],\n       [1, 1, 0, 0, 1, 1, 0, 0],\n       [1, 1, 0, 0, 0, 0, 1, 1],\n       [1, 0, 1, 0, 1, 0, 1, 0],\n       [1, 0, 1, 0, 0, 1, 0, 1],\n       [1, 0, 0, 1, 1, 0, 0, 1],\n       [1, 0, 0, 1, 0, 1, 1, 0]], dtype=int32)"
     },
     "execution_count": 135,
     "metadata": {},
     "output_type": "execute_result"
    }
   ],
   "source": [
    "lists = [[0, 1], [0, 1], [0, 1], [0, 1]]\n",
    "key_words = np.array(list(product(*lists)))\n",
    "G_key_words = np.array([(el @ ReedMayer_G(r, m)) % 2 for el in key_words])\n",
    "G_key_words"
   ],
   "metadata": {
    "collapsed": false,
    "ExecuteTime": {
     "end_time": "2025-02-20T15:02:21.112273800Z",
     "start_time": "2025-02-20T15:02:21.103499900Z"
    }
   }
  },
  {
   "cell_type": "code",
   "execution_count": 136,
   "outputs": [
    {
     "name": "stdout",
     "output_type": "stream",
     "text": [
      "Source word: [1 1 0 0]\n",
      "Decoded word: [1 1 0 0]\n"
     ]
    }
   ],
   "source": [
    "k = np.array([1, 1, 0, 0])\n",
    "w = (k @ ReedMayer_G(r, m)) % 2\n",
    "\n",
    "# Однократные ошибки\n",
    "w[0] = (w[0] + 1) % 2\n",
    "\n",
    "candidats = []\n",
    "dist = np.Infinity\n",
    "for el in G_key_words:\n",
    "    if sum((w + el) % 2) < dist:\n",
    "        candidats.clear()\n",
    "        candidats.append(el)\n",
    "        dist = sum((w + el) % 2)\n",
    "    elif sum((w + el) % 2) == dist:\n",
    "        candidats.append(el)\n",
    "\n",
    "if (len(candidats) == 1):\n",
    "    w = candidats[0]\n",
    "    w_cap = w.copy()\n",
    "    w_cap[w_cap == 0] = -1\n",
    "\n",
    "    for i in range(len(Hs)):\n",
    "        w_cap = w_cap @ Hs[i]\n",
    "\n",
    "    w_cap_abs = np.abs(w_cap)\n",
    "    j = np.argmax(w_cap_abs)\n",
    "    bin_j = bin(j)[2:]\n",
    "\n",
    "    vj = \"0\"  * (m - len(bin_j))\n",
    "    vj = vj + bin_j\n",
    "    vj = vj[::-1]\n",
    "\n",
    "    if(w_cap[j] > 0):\n",
    "        fake_mes = np.array(list(\"1\" + vj), dtype=int)\n",
    "    else:\n",
    "        fake_mes = np.array(list(\"0\" + vj), dtype=int)\n",
    "    print(f\"Source word: {k}\")\n",
    "    print(f\"Decoded word: {fake_mes}\")\n",
    "else:\n",
    "    print(\"The error found but can not be fixed\")"
   ],
   "metadata": {
    "collapsed": false,
    "ExecuteTime": {
     "end_time": "2025-02-20T15:02:21.141322100Z",
     "start_time": "2025-02-20T15:02:21.115234900Z"
    }
   }
  },
  {
   "cell_type": "code",
   "execution_count": 137,
   "outputs": [
    {
     "name": "stdout",
     "output_type": "stream",
     "text": [
      "The error found but can not be fixed\n"
     ]
    }
   ],
   "source": [
    "k = np.array([1, 1, 0, 0])\n",
    "w = (k @ ReedMayer_G(r, m)) % 2\n",
    "\n",
    "# Двукратные ошибки\n",
    "w[0] = (w[0] + 1) % 2\n",
    "w[1] = (w[1] + 1) % 2\n",
    "\n",
    "candidats = []\n",
    "dist = np.Infinity\n",
    "for el in G_key_words:\n",
    "    if sum((w + el) % 2) < dist:\n",
    "        candidats.clear()\n",
    "        candidats.append(el)\n",
    "        dist = sum((w + el) % 2)\n",
    "    elif sum((w + el) % 2) == dist:\n",
    "        candidats.append(el)\n",
    "\n",
    "if (len(candidats) == 1):\n",
    "    w = candidats[0]\n",
    "    w_cap = w.copy()\n",
    "    w_cap[w_cap == 0] = -1\n",
    "\n",
    "    for i in range(len(Hs)):\n",
    "        w_cap = w_cap @ Hs[i]\n",
    "\n",
    "    w_cap_abs = np.abs(w_cap)\n",
    "    j = np.argmax(w_cap_abs)\n",
    "    bin_j = bin(j)[2:]\n",
    "\n",
    "    vj = \"0\"  * (m - len(bin_j))\n",
    "    vj = vj + bin_j\n",
    "    vj = vj[::-1]\n",
    "\n",
    "    if(w_cap[j] > 0):\n",
    "        fake_mes = np.array(list(\"1\" + vj), dtype=int)\n",
    "    else:\n",
    "        fake_mes = np.array(list(\"0\" + vj), dtype=int)\n",
    "    print(f\"Source word: {k}\")\n",
    "    print(f\"Decoded word: {fake_mes}\")\n",
    "else:\n",
    "    print(\"The error found but can not be fixed\")"
   ],
   "metadata": {
    "collapsed": false,
    "ExecuteTime": {
     "end_time": "2025-02-20T15:02:21.142289900Z",
     "start_time": "2025-02-20T15:02:21.125583900Z"
    }
   }
  },
  {
   "cell_type": "markdown",
   "source": [
    "---\n",
    "#### 4.5. Провести исследование кода Рида-Маллера 𝑅𝑀(1,4) для одно-, двух-, трёх- и четырёхкратных ошибок."
   ],
   "metadata": {
    "collapsed": false
   }
  },
  {
   "cell_type": "code",
   "execution_count": 138,
   "outputs": [],
   "source": [
    "r, m = 1, 4\n",
    "\n",
    "Hs = []\n",
    "H = np.array([[1, 1], [1, -1]])\n",
    "for i in range(1, m + 1):\n",
    "    Hs.append(np.kron(np.kron(np.eye(int(2**(m - i)), dtype=int), H), np.eye(int(2**(i - 1)), dtype=int)))\n",
    "\n",
    "lists = [[0, 1], [0, 1], [0, 1], [0, 1], [0, 1]]\n",
    "key_words = np.array(list(product(*lists)))\n",
    "G_key_words = np.array([(el @ ReedMayer_G(r, m)) % 2 for el in key_words])"
   ],
   "metadata": {
    "collapsed": false,
    "ExecuteTime": {
     "end_time": "2025-02-20T15:02:21.142289900Z",
     "start_time": "2025-02-20T15:02:21.134623Z"
    }
   }
  },
  {
   "cell_type": "code",
   "execution_count": 139,
   "outputs": [
    {
     "name": "stdout",
     "output_type": "stream",
     "text": [
      "Source word: [1 1 1 0 0]\n",
      "Decoded word: [1 1 1 0 0]\n"
     ]
    }
   ],
   "source": [
    "k = np.array([1, 1, 1, 0, 0])\n",
    "w = (k @ ReedMayer_G(r, m)) % 2\n",
    "\n",
    "# Однократная\n",
    "w[0] = (w[0] + 1) % 2\n",
    "\n",
    "candidats = []\n",
    "dist = np.Infinity\n",
    "for el in G_key_words:\n",
    "    if sum((w + el) % 2) < dist:\n",
    "        candidats.clear()\n",
    "        candidats.append(el)\n",
    "        dist = sum((w + el) % 2)\n",
    "    elif sum((w + el) % 2) == dist:\n",
    "        candidats.append(el)\n",
    "\n",
    "if (len(candidats) == 1):\n",
    "    w = candidats[0]\n",
    "    w_cap = w.copy()\n",
    "    w_cap[w_cap == 0] = -1\n",
    "\n",
    "    for i in range(len(Hs)):\n",
    "        w_cap = w_cap @ Hs[i]\n",
    "\n",
    "    w_cap_abs = np.abs(w_cap)\n",
    "    j = np.argmax(w_cap_abs)\n",
    "    bin_j = bin(j)[2:]\n",
    "\n",
    "    vj = \"0\"  * (m - len(bin_j))\n",
    "    vj = vj + bin_j\n",
    "    vj = vj[::-1]\n",
    "\n",
    "    if(w_cap[j] > 0):\n",
    "        fake_mes = np.array(list(\"1\" + vj), dtype=int)\n",
    "    else:\n",
    "        fake_mes = np.array(list(\"0\" + vj), dtype=int)\n",
    "    print(f\"Source word: {k}\")\n",
    "    print(f\"Decoded word: {fake_mes}\")\n",
    "else:\n",
    "    print(\"The error found but can not be fixed\")"
   ],
   "metadata": {
    "collapsed": false,
    "ExecuteTime": {
     "end_time": "2025-02-20T15:02:21.162635Z",
     "start_time": "2025-02-20T15:02:21.145282500Z"
    }
   }
  },
  {
   "cell_type": "code",
   "execution_count": 140,
   "outputs": [
    {
     "name": "stdout",
     "output_type": "stream",
     "text": [
      "Source word: [1 1 1 0 0]\n",
      "Decoded word: [1 1 1 0 0]\n"
     ]
    }
   ],
   "source": [
    "k = np.array([1, 1, 1, 0, 0])\n",
    "w = (k @ ReedMayer_G(r, m)) % 2\n",
    "\n",
    "# Двукратная\n",
    "w[0] = (w[0] + 1) % 2\n",
    "w[1] = (w[1] + 1) % 2\n",
    "\n",
    "candidats = []\n",
    "dist = np.Infinity\n",
    "for el in G_key_words:\n",
    "    if sum((w + el) % 2) < dist:\n",
    "        candidats.clear()\n",
    "        candidats.append(el)\n",
    "        dist = sum((w + el) % 2)\n",
    "    elif sum((w + el) % 2) == dist:\n",
    "        candidats.append(el)\n",
    "\n",
    "if (len(candidats) == 1):\n",
    "    w = candidats[0]\n",
    "    w_cap = w.copy()\n",
    "    w_cap[w_cap == 0] = -1\n",
    "\n",
    "    for i in range(len(Hs)):\n",
    "        w_cap = w_cap @ Hs[i]\n",
    "\n",
    "    w_cap_abs = np.abs(w_cap)\n",
    "    j = np.argmax(w_cap_abs)\n",
    "    bin_j = bin(j)[2:]\n",
    "\n",
    "    vj = \"0\"  * (m - len(bin_j))\n",
    "    vj = vj + bin_j\n",
    "    vj = vj[::-1]\n",
    "\n",
    "    if(w_cap[j] > 0):\n",
    "        fake_mes = np.array(list(\"1\" + vj), dtype=int)\n",
    "    else:\n",
    "        fake_mes = np.array(list(\"0\" + vj), dtype=int)\n",
    "    print(f\"Source word: {k}\")\n",
    "    print(f\"Decoded word: {fake_mes}\")\n",
    "else:\n",
    "    print(\"The error found but can not be fixed\")"
   ],
   "metadata": {
    "collapsed": false,
    "ExecuteTime": {
     "end_time": "2025-02-20T15:02:21.163646100Z",
     "start_time": "2025-02-20T15:02:21.155593Z"
    }
   }
  },
  {
   "cell_type": "code",
   "execution_count": 141,
   "outputs": [
    {
     "name": "stdout",
     "output_type": "stream",
     "text": [
      "Source word: [1 1 1 0 0]\n",
      "Decoded word: [1 1 1 0 0]\n"
     ]
    }
   ],
   "source": [
    "k = np.array([1, 1, 1, 0, 0])\n",
    "w = (k @ ReedMayer_G(r, m)) % 2\n",
    "\n",
    "# Трёхкратная ошибка\n",
    "w[0] = (w[0] + 1) % 2\n",
    "w[1] = (w[1] + 1) % 2\n",
    "w[2] = (w[2] + 1) % 2\n",
    "\n",
    "candidats = []\n",
    "dist = np.Infinity\n",
    "for el in G_key_words:\n",
    "    if sum((w + el) % 2) < dist:\n",
    "        candidats.clear()\n",
    "        candidats.append(el)\n",
    "        dist = sum((w + el) % 2)\n",
    "    elif sum((w + el) % 2) == dist:\n",
    "        candidats.append(el)\n",
    "\n",
    "if (len(candidats) == 1):\n",
    "    w = candidats[0]\n",
    "    w_cap = w.copy()\n",
    "    w_cap[w_cap == 0] = -1\n",
    "\n",
    "    for i in range(len(Hs)):\n",
    "        w_cap = w_cap @ Hs[i]\n",
    "\n",
    "    w_cap_abs = np.abs(w_cap)\n",
    "    j = np.argmax(w_cap_abs)\n",
    "    bin_j = bin(j)[2:]\n",
    "\n",
    "    vj = \"0\"  * (m - len(bin_j))\n",
    "    vj = vj + bin_j\n",
    "    vj = vj[::-1]\n",
    "\n",
    "    if(w_cap[j] > 0):\n",
    "        fake_mes = np.array(list(\"1\" + vj), dtype=int)\n",
    "    else:\n",
    "        fake_mes = np.array(list(\"0\" + vj), dtype=int)\n",
    "    print(f\"Source word: {k}\")\n",
    "    print(f\"Decoded word: {fake_mes}\")\n",
    "else:\n",
    "    print(\"The error found but can not be fixed\")"
   ],
   "metadata": {
    "collapsed": false,
    "ExecuteTime": {
     "end_time": "2025-02-20T15:02:21.262651600Z",
     "start_time": "2025-02-20T15:02:21.165603100Z"
    }
   }
  },
  {
   "cell_type": "code",
   "execution_count": 142,
   "outputs": [
    {
     "name": "stdout",
     "output_type": "stream",
     "text": [
      "The error found but can not be fixed\n"
     ]
    }
   ],
   "source": [
    "k = np.array([1, 1, 1, 0, 0])\n",
    "w = (k @ ReedMayer_G(r, m)) % 2\n",
    "\n",
    "# Четырёхкратная ошибка\n",
    "w[0] = (w[0] + 1) % 2\n",
    "w[1] = (w[1] + 1) % 2\n",
    "w[2] = (w[2] + 1) % 2\n",
    "w[3] = (w[3] + 1) % 2\n",
    "\n",
    "candidats = []\n",
    "dist = np.Infinity\n",
    "for el in G_key_words:\n",
    "    if sum((w + el) % 2) < dist:\n",
    "        candidats.clear()\n",
    "        candidats.append(el)\n",
    "        dist = sum((w + el) % 2)\n",
    "    elif sum((w + el) % 2) == dist:\n",
    "        candidats.append(el)\n",
    "\n",
    "if (len(candidats) == 1):\n",
    "    w = candidats[0]\n",
    "    w_cap = w.copy()\n",
    "    w_cap[w_cap == 0] = -1\n",
    "\n",
    "    for i in range(len(Hs)):\n",
    "        w_cap = w_cap @ Hs[i]\n",
    "\n",
    "    w_cap_abs = np.abs(w_cap)\n",
    "    j = np.argmax(w_cap_abs)\n",
    "    bin_j = bin(j)[2:]\n",
    "\n",
    "    vj = \"0\"  * (m - len(bin_j))\n",
    "    vj = vj + bin_j\n",
    "    vj = vj[::-1]\n",
    "\n",
    "    if(w_cap[j] > 0):\n",
    "        fake_mes = np.array(list(\"1\" + vj), dtype=int)\n",
    "    else:\n",
    "        fake_mes = np.array(list(\"0\" + vj), dtype=int)\n",
    "    print(f\"Source word: {k}\")\n",
    "    print(f\"Decoded word: {fake_mes}\")\n",
    "else:\n",
    "    print(\"The error found but can not be fixed\")"
   ],
   "metadata": {
    "collapsed": false,
    "ExecuteTime": {
     "end_time": "2025-02-20T15:02:21.265677600Z",
     "start_time": "2025-02-20T15:02:21.181861300Z"
    }
   }
  }
 ],
 "metadata": {
  "kernelspec": {
   "display_name": "Python 3",
   "language": "python",
   "name": "python3"
  },
  "language_info": {
   "codemirror_mode": {
    "name": "ipython",
    "version": 3
   },
   "file_extension": ".py",
   "mimetype": "text/x-python",
   "name": "python",
   "nbconvert_exporter": "python",
   "pygments_lexer": "ipython3",
   "version": "3.10.3"
  }
 },
 "nbformat": 4,
 "nbformat_minor": 2
}
