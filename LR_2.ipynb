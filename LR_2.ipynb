{
 "cells": [
  {
   "cell_type": "markdown",
   "source": [
    "\n",
    "# Теория Кодирования\n",
    "## Лабораторная работа 2\n",
    "\n",
    "От студента группы **6405**-010302\n",
    "**Слеповичева Святослава**\n",
    "\n",
    "\n",
    "---\n",
    "\n",
    "### Задание Часть 1.\n",
    "#### 2.1. Сформировать порождающую матрицу линейного кода (7, 4, 3)"
   ],
   "metadata": {
    "collapsed": false
   }
  },
  {
   "cell_type": "code",
   "execution_count": 1,
   "outputs": [
    {
     "name": "stdout",
     "output_type": "stream",
     "text": [
      "[[1 0 0 0 1 1 0]\n",
      " [0 1 0 0 1 0 1]\n",
      " [0 0 1 0 0 1 1]\n",
      " [0 0 0 1 1 1 1]]\n"
     ]
    }
   ],
   "source": [
    "import numpy as np\n",
    "\n",
    "n, k, d = 7, 4, 3\n",
    "\n",
    "linear_code = np.zeros((k, n), dtype=int)\n",
    "linear_code[0:k, 0:k] = np.eye(k)\n",
    "\n",
    "linear_code[0, 4:] = np.array([1, 1, 0])\n",
    "linear_code[1, 4:] = np.array([1, 0, 1])\n",
    "linear_code[2, 4:] = np.array([0, 1, 1])\n",
    "linear_code[3, 4:] = np.array([1, 1, 1])\n",
    "print(linear_code)"
   ],
   "metadata": {
    "collapsed": false,
    "ExecuteTime": {
     "end_time": "2024-12-22T09:37:20.490257300Z",
     "start_time": "2024-12-22T09:37:19.464136900Z"
    }
   }
  },
  {
   "cell_type": "markdown",
   "source": [
    "#### 2.2 Сформировать проверочную матрицу на основе порождающей."
   ],
   "metadata": {
    "collapsed": false
   }
  },
  {
   "cell_type": "code",
   "execution_count": 2,
   "outputs": [
    {
     "name": "stdout",
     "output_type": "stream",
     "text": [
      "[[1 1 0 1 1 0 0]\n",
      " [1 0 1 1 0 1 0]\n",
      " [0 1 1 1 0 0 1]]\n"
     ]
    }
   ],
   "source": [
    "# В прошлой лабораторной называлась h_matrix для удобства сохраним основные названия\n",
    "h_matrix = np.zeros((n - k, n), dtype=int)\n",
    "\n",
    "h_matrix[:, :k] = linear_code[:, k:].T  # Транспонированная часть X\n",
    "h_matrix[:, k:] = np.eye(n - k, dtype=int)\n",
    "print(h_matrix)"
   ],
   "metadata": {
    "collapsed": false,
    "ExecuteTime": {
     "end_time": "2024-12-22T09:37:20.502850400Z",
     "start_time": "2024-12-22T09:37:20.496861800Z"
    }
   }
  },
  {
   "cell_type": "markdown",
   "source": [
    "#### 2.3 Сформировать таблицу синдромов для всех однократных ошибок."
   ],
   "metadata": {
    "collapsed": false
   }
  },
  {
   "cell_type": "code",
   "execution_count": 3,
   "outputs": [
    {
     "name": "stdout",
     "output_type": "stream",
     "text": [
      "{(1, 1, 0): array([1, 0, 0, 0, 0, 0, 0]), (1, 0, 1): array([0, 1, 0, 0, 0, 0, 0]), (0, 1, 1): array([0, 0, 1, 0, 0, 0, 0]), (1, 1, 1): array([0, 0, 0, 1, 0, 0, 0]), (1, 0, 0): array([0, 0, 0, 0, 1, 0, 0]), (0, 1, 0): array([0, 0, 0, 0, 0, 1, 0]), (0, 0, 1): array([0, 0, 0, 0, 0, 0, 1])}\n"
     ]
    }
   ],
   "source": [
    "syndrome_table = {}\n",
    "for i in range(n):\n",
    "    error = np.zeros(n, dtype=int)\n",
    "    error[i] = 1\n",
    "    syndrome = (h_matrix @ error) % 2\n",
    "    syndrome_table[tuple(syndrome)] = error\n",
    "print(syndrome_table)"
   ],
   "metadata": {
    "collapsed": false,
    "ExecuteTime": {
     "end_time": "2024-12-22T09:37:20.589162600Z",
     "start_time": "2024-12-22T09:37:20.503849900Z"
    }
   }
  },
  {
   "cell_type": "markdown",
   "source": [
    "#### 2.4. Сформировать кодовое слово длины n из слова длины k. Внести однократную ошибку в сформированное слово.\n",
    "Вычислить синдром, исправить ошибку с использованием таблицы синдромов.\n",
    "Убедиться в правильности полученного слова."
   ],
   "metadata": {
    "collapsed": false
   }
  },
  {
   "cell_type": "code",
   "execution_count": 4,
   "outputs": [
    {
     "name": "stdout",
     "output_type": "stream",
     "text": [
      "Unbroken word = [1 1 1 1 1 1 1]\n",
      "Broken word = [1 0 1 1 1 1 1]\n",
      "Syndrome = [1 0 1]\n",
      "Fixed word = [1 1 1 1 1 1 1]\n",
      "Correction successful = True\n"
     ]
    }
   ],
   "source": [
    "word = np.array([1, 1, 1, 1], dtype=int)\n",
    "res = (word @ linear_code) % 2\n",
    "\n",
    "print(f\"Unbroken word = {res}\")\n",
    "\n",
    "broken_word = res.copy()\n",
    "broken_word[1] ^= 1  # Инвертируем бит\n",
    "print(f\"Broken word = {broken_word}\")\n",
    "\n",
    "syndrome = (h_matrix @ broken_word) % 2\n",
    "print(f\"Syndrome = {syndrome}\")\n",
    "\n",
    "error_vector = syndrome_table.get(tuple(syndrome), np.zeros(n, dtype=int))\n",
    "fixed_word = (broken_word + error_vector) % 2\n",
    "print(f\"Fixed word = {fixed_word}\")\n",
    "\n",
    "print(\"Correction successful =\", np.array_equal(fixed_word, res))"
   ],
   "metadata": {
    "collapsed": false,
    "ExecuteTime": {
     "end_time": "2024-12-22T09:37:20.590161900Z",
     "start_time": "2024-12-22T09:37:20.521882700Z"
    }
   }
  },
  {
   "cell_type": "markdown",
   "source": [
    "#### 2.5. Сформировать кодовое слово длины n из слова длины k. Внести двукратную ошибку в сформированное слово.\n",
    "Вычислить синдром, исправить ошибку с использованием таблицы синдромов.\n",
    "Убедиться, что полученное слово отличается от отправленного.\n"
   ],
   "metadata": {
    "collapsed": false
   }
  },
  {
   "cell_type": "code",
   "execution_count": 5,
   "outputs": [
    {
     "name": "stdout",
     "output_type": "stream",
     "text": [
      "Broken word with double error = [1 0 0 1 1 1 1]\n",
      "Syndrome = [1 1 0]\n",
      "Fixed word = [0 0 0 1 1 1 1]\n",
      "Correction failed (as expected) =  True\n"
     ]
    }
   ],
   "source": [
    "\n",
    "broken_word[2] ^= 1  # Вторая ошибка\n",
    "print(f\"Broken word with double error = {broken_word}\")\n",
    "\n",
    "syndrome = (h_matrix @ broken_word) % 2\n",
    "print(f\"Syndrome = {syndrome}\")\n",
    "\n",
    "error_vector = syndrome_table.get(tuple(syndrome), np.zeros(n, dtype=int))\n",
    "fixed_word = (broken_word + error_vector) % 2\n",
    "print(f\"Fixed word = {fixed_word}\")\n",
    "\n",
    "print(\"Correction failed (as expected) = \", not np.array_equal(fixed_word, res))"
   ],
   "metadata": {
    "collapsed": false,
    "ExecuteTime": {
     "end_time": "2024-12-22T09:37:20.591161400Z",
     "start_time": "2024-12-22T09:37:20.535679600Z"
    }
   }
  },
  {
   "cell_type": "markdown",
   "source": [
    "### Часть 2.\n",
    "#### 2.6. Сформировать порождающую матрицу линейного кода (n, k, 5)."
   ],
   "metadata": {
    "collapsed": false
   }
  },
  {
   "cell_type": "code",
   "execution_count": 6,
   "outputs": [
    {
     "name": "stdout",
     "output_type": "stream",
     "text": [
      "[[1 0 0 0 1 1 1 1 0 0 0 0]\n",
      " [0 1 0 0 0 0 0 0 1 1 1 1]\n",
      " [0 0 1 0 0 0 1 1 0 0 1 1]\n",
      " [0 0 0 1 1 0 1 0 1 0 1 0]]\n"
     ]
    }
   ],
   "source": [
    "n, k, d = 12, 4, 5\n",
    "\n",
    "linear_code = np.zeros((k, n), dtype=int)\n",
    "linear_code[0:k, 0:k] = np.eye(k, dtype=int)\n",
    "\n",
    "linear_code[0, 4:] = np.array([1, 1, 1, 1, 0, 0, 0, 0])\n",
    "linear_code[1, 4:] = np.array([0, 0, 0, 0, 1, 1, 1, 1])\n",
    "linear_code[2, 4:] = np.array([0, 0, 1, 1, 0, 0, 1, 1])\n",
    "linear_code[3, 4:] = np.array([1, 0, 1, 0, 1, 0, 1, 0])\n",
    "\n",
    "print(linear_code)"
   ],
   "metadata": {
    "collapsed": false,
    "ExecuteTime": {
     "end_time": "2024-12-22T09:37:20.592160800Z",
     "start_time": "2024-12-22T09:37:20.546053800Z"
    }
   }
  },
  {
   "cell_type": "markdown",
   "source": [
    "#### 2.7 Сформировать проверочную матрицу на основе порождающей."
   ],
   "metadata": {
    "collapsed": false
   }
  },
  {
   "cell_type": "code",
   "execution_count": 7,
   "outputs": [
    {
     "name": "stdout",
     "output_type": "stream",
     "text": [
      "[[1 0 0 1 1 0 0 0 0 0 0 0]\n",
      " [1 0 0 0 0 1 0 0 0 0 0 0]\n",
      " [1 0 1 1 0 0 1 0 0 0 0 0]\n",
      " [1 0 1 0 0 0 0 1 0 0 0 0]\n",
      " [0 1 0 1 0 0 0 0 1 0 0 0]\n",
      " [0 1 0 0 0 0 0 0 0 1 0 0]\n",
      " [0 1 1 1 0 0 0 0 0 0 1 0]\n",
      " [0 1 1 0 0 0 0 0 0 0 0 1]]\n"
     ]
    }
   ],
   "source": [
    "h_matrix = np.zeros((n - k, n), dtype=int)\n",
    "\n",
    "h_matrix[:, :k] = linear_code[:, k:].T\n",
    "h_matrix[:, k:] = np.eye(n - k, dtype=int)\n",
    "print(h_matrix)"
   ],
   "metadata": {
    "collapsed": false,
    "ExecuteTime": {
     "end_time": "2024-12-22T09:37:20.592160800Z",
     "start_time": "2024-12-22T09:37:20.556192800Z"
    }
   }
  },
  {
   "cell_type": "markdown",
   "source": [
    "#### 2.8 Сформировать таблицу синдромов для всех однократных и двукратных ошибок."
   ],
   "metadata": {
    "collapsed": false
   }
  },
  {
   "cell_type": "code",
   "execution_count": 8,
   "outputs": [
    {
     "name": "stdout",
     "output_type": "stream",
     "text": [
      "{(1, 1, 1, 1, 0, 0, 0, 0): array([1, 0, 0, 0, 0, 0, 0, 0, 0, 0, 0, 0]), (0, 0, 0, 0, 1, 1, 1, 1): array([0, 1, 0, 0, 0, 0, 0, 0, 0, 0, 0, 0]), (0, 0, 1, 1, 0, 0, 1, 1): array([0, 0, 1, 0, 0, 0, 0, 0, 0, 0, 0, 0]), (1, 0, 1, 0, 1, 0, 1, 0): array([0, 0, 0, 1, 0, 0, 0, 0, 0, 0, 0, 0]), (1, 0, 0, 0, 0, 0, 0, 0): array([0, 0, 0, 0, 1, 0, 0, 0, 0, 0, 0, 0]), (0, 1, 0, 0, 0, 0, 0, 0): array([0, 0, 0, 0, 0, 1, 0, 0, 0, 0, 0, 0]), (0, 0, 1, 0, 0, 0, 0, 0): array([0, 0, 0, 0, 0, 0, 1, 0, 0, 0, 0, 0]), (0, 0, 0, 1, 0, 0, 0, 0): array([0, 0, 0, 0, 0, 0, 0, 1, 0, 0, 0, 0]), (0, 0, 0, 0, 1, 0, 0, 0): array([0, 0, 0, 0, 0, 0, 0, 0, 1, 0, 0, 0]), (0, 0, 0, 0, 0, 1, 0, 0): array([0, 0, 0, 0, 0, 0, 0, 0, 0, 1, 0, 0]), (0, 0, 0, 0, 0, 0, 1, 0): array([0, 0, 0, 0, 0, 0, 0, 0, 0, 0, 1, 0]), (0, 0, 0, 0, 0, 0, 0, 1): array([0, 0, 0, 0, 0, 0, 0, 0, 0, 0, 0, 1]), (1, 1, 1, 1, 1, 1, 1, 1): array([1, 1, 0, 0, 0, 0, 0, 0, 0, 0, 0, 0]), (1, 1, 0, 0, 0, 0, 1, 1): array([1, 0, 1, 0, 0, 0, 0, 0, 0, 0, 0, 0]), (0, 1, 0, 1, 1, 0, 1, 0): array([1, 0, 0, 1, 0, 0, 0, 0, 0, 0, 0, 0]), (0, 1, 1, 1, 0, 0, 0, 0): array([1, 0, 0, 0, 1, 0, 0, 0, 0, 0, 0, 0]), (1, 0, 1, 1, 0, 0, 0, 0): array([1, 0, 0, 0, 0, 1, 0, 0, 0, 0, 0, 0]), (1, 1, 0, 1, 0, 0, 0, 0): array([1, 0, 0, 0, 0, 0, 1, 0, 0, 0, 0, 0]), (1, 1, 1, 0, 0, 0, 0, 0): array([1, 0, 0, 0, 0, 0, 0, 1, 0, 0, 0, 0]), (1, 1, 1, 1, 1, 0, 0, 0): array([1, 0, 0, 0, 0, 0, 0, 0, 1, 0, 0, 0]), (1, 1, 1, 1, 0, 1, 0, 0): array([1, 0, 0, 0, 0, 0, 0, 0, 0, 1, 0, 0]), (1, 1, 1, 1, 0, 0, 1, 0): array([1, 0, 0, 0, 0, 0, 0, 0, 0, 0, 1, 0]), (1, 1, 1, 1, 0, 0, 0, 1): array([1, 0, 0, 0, 0, 0, 0, 0, 0, 0, 0, 1]), (0, 0, 1, 1, 1, 1, 0, 0): array([0, 1, 1, 0, 0, 0, 0, 0, 0, 0, 0, 0]), (1, 0, 1, 0, 0, 1, 0, 1): array([0, 1, 0, 1, 0, 0, 0, 0, 0, 0, 0, 0]), (1, 0, 0, 0, 1, 1, 1, 1): array([0, 1, 0, 0, 1, 0, 0, 0, 0, 0, 0, 0]), (0, 1, 0, 0, 1, 1, 1, 1): array([0, 1, 0, 0, 0, 1, 0, 0, 0, 0, 0, 0]), (0, 0, 1, 0, 1, 1, 1, 1): array([0, 1, 0, 0, 0, 0, 1, 0, 0, 0, 0, 0]), (0, 0, 0, 1, 1, 1, 1, 1): array([0, 1, 0, 0, 0, 0, 0, 1, 0, 0, 0, 0]), (0, 0, 0, 0, 0, 1, 1, 1): array([0, 1, 0, 0, 0, 0, 0, 0, 1, 0, 0, 0]), (0, 0, 0, 0, 1, 0, 1, 1): array([0, 1, 0, 0, 0, 0, 0, 0, 0, 1, 0, 0]), (0, 0, 0, 0, 1, 1, 0, 1): array([0, 1, 0, 0, 0, 0, 0, 0, 0, 0, 1, 0]), (0, 0, 0, 0, 1, 1, 1, 0): array([0, 1, 0, 0, 0, 0, 0, 0, 0, 0, 0, 1]), (1, 0, 0, 1, 1, 0, 0, 1): array([0, 0, 1, 1, 0, 0, 0, 0, 0, 0, 0, 0]), (1, 0, 1, 1, 0, 0, 1, 1): array([0, 0, 1, 0, 1, 0, 0, 0, 0, 0, 0, 0]), (0, 1, 1, 1, 0, 0, 1, 1): array([0, 0, 1, 0, 0, 1, 0, 0, 0, 0, 0, 0]), (0, 0, 0, 1, 0, 0, 1, 1): array([0, 0, 1, 0, 0, 0, 1, 0, 0, 0, 0, 0]), (0, 0, 1, 0, 0, 0, 1, 1): array([0, 0, 1, 0, 0, 0, 0, 1, 0, 0, 0, 0]), (0, 0, 1, 1, 1, 0, 1, 1): array([0, 0, 1, 0, 0, 0, 0, 0, 1, 0, 0, 0]), (0, 0, 1, 1, 0, 1, 1, 1): array([0, 0, 1, 0, 0, 0, 0, 0, 0, 1, 0, 0]), (0, 0, 1, 1, 0, 0, 0, 1): array([0, 0, 1, 0, 0, 0, 0, 0, 0, 0, 1, 0]), (0, 0, 1, 1, 0, 0, 1, 0): array([0, 0, 1, 0, 0, 0, 0, 0, 0, 0, 0, 1]), (0, 0, 1, 0, 1, 0, 1, 0): array([0, 0, 0, 1, 1, 0, 0, 0, 0, 0, 0, 0]), (1, 1, 1, 0, 1, 0, 1, 0): array([0, 0, 0, 1, 0, 1, 0, 0, 0, 0, 0, 0]), (1, 0, 0, 0, 1, 0, 1, 0): array([0, 0, 0, 1, 0, 0, 1, 0, 0, 0, 0, 0]), (1, 0, 1, 1, 1, 0, 1, 0): array([0, 0, 0, 1, 0, 0, 0, 1, 0, 0, 0, 0]), (1, 0, 1, 0, 0, 0, 1, 0): array([0, 0, 0, 1, 0, 0, 0, 0, 1, 0, 0, 0]), (1, 0, 1, 0, 1, 1, 1, 0): array([0, 0, 0, 1, 0, 0, 0, 0, 0, 1, 0, 0]), (1, 0, 1, 0, 1, 0, 0, 0): array([0, 0, 0, 1, 0, 0, 0, 0, 0, 0, 1, 0]), (1, 0, 1, 0, 1, 0, 1, 1): array([0, 0, 0, 1, 0, 0, 0, 0, 0, 0, 0, 1]), (1, 1, 0, 0, 0, 0, 0, 0): array([0, 0, 0, 0, 1, 1, 0, 0, 0, 0, 0, 0]), (1, 0, 1, 0, 0, 0, 0, 0): array([0, 0, 0, 0, 1, 0, 1, 0, 0, 0, 0, 0]), (1, 0, 0, 1, 0, 0, 0, 0): array([0, 0, 0, 0, 1, 0, 0, 1, 0, 0, 0, 0]), (1, 0, 0, 0, 1, 0, 0, 0): array([0, 0, 0, 0, 1, 0, 0, 0, 1, 0, 0, 0]), (1, 0, 0, 0, 0, 1, 0, 0): array([0, 0, 0, 0, 1, 0, 0, 0, 0, 1, 0, 0]), (1, 0, 0, 0, 0, 0, 1, 0): array([0, 0, 0, 0, 1, 0, 0, 0, 0, 0, 1, 0]), (1, 0, 0, 0, 0, 0, 0, 1): array([0, 0, 0, 0, 1, 0, 0, 0, 0, 0, 0, 1]), (0, 1, 1, 0, 0, 0, 0, 0): array([0, 0, 0, 0, 0, 1, 1, 0, 0, 0, 0, 0]), (0, 1, 0, 1, 0, 0, 0, 0): array([0, 0, 0, 0, 0, 1, 0, 1, 0, 0, 0, 0]), (0, 1, 0, 0, 1, 0, 0, 0): array([0, 0, 0, 0, 0, 1, 0, 0, 1, 0, 0, 0]), (0, 1, 0, 0, 0, 1, 0, 0): array([0, 0, 0, 0, 0, 1, 0, 0, 0, 1, 0, 0]), (0, 1, 0, 0, 0, 0, 1, 0): array([0, 0, 0, 0, 0, 1, 0, 0, 0, 0, 1, 0]), (0, 1, 0, 0, 0, 0, 0, 1): array([0, 0, 0, 0, 0, 1, 0, 0, 0, 0, 0, 1]), (0, 0, 1, 1, 0, 0, 0, 0): array([0, 0, 0, 0, 0, 0, 1, 1, 0, 0, 0, 0]), (0, 0, 1, 0, 1, 0, 0, 0): array([0, 0, 0, 0, 0, 0, 1, 0, 1, 0, 0, 0]), (0, 0, 1, 0, 0, 1, 0, 0): array([0, 0, 0, 0, 0, 0, 1, 0, 0, 1, 0, 0]), (0, 0, 1, 0, 0, 0, 1, 0): array([0, 0, 0, 0, 0, 0, 1, 0, 0, 0, 1, 0]), (0, 0, 1, 0, 0, 0, 0, 1): array([0, 0, 0, 0, 0, 0, 1, 0, 0, 0, 0, 1]), (0, 0, 0, 1, 1, 0, 0, 0): array([0, 0, 0, 0, 0, 0, 0, 1, 1, 0, 0, 0]), (0, 0, 0, 1, 0, 1, 0, 0): array([0, 0, 0, 0, 0, 0, 0, 1, 0, 1, 0, 0]), (0, 0, 0, 1, 0, 0, 1, 0): array([0, 0, 0, 0, 0, 0, 0, 1, 0, 0, 1, 0]), (0, 0, 0, 1, 0, 0, 0, 1): array([0, 0, 0, 0, 0, 0, 0, 1, 0, 0, 0, 1]), (0, 0, 0, 0, 1, 1, 0, 0): array([0, 0, 0, 0, 0, 0, 0, 0, 1, 1, 0, 0]), (0, 0, 0, 0, 1, 0, 1, 0): array([0, 0, 0, 0, 0, 0, 0, 0, 1, 0, 1, 0]), (0, 0, 0, 0, 1, 0, 0, 1): array([0, 0, 0, 0, 0, 0, 0, 0, 1, 0, 0, 1]), (0, 0, 0, 0, 0, 1, 1, 0): array([0, 0, 0, 0, 0, 0, 0, 0, 0, 1, 1, 0]), (0, 0, 0, 0, 0, 1, 0, 1): array([0, 0, 0, 0, 0, 0, 0, 0, 0, 1, 0, 1]), (0, 0, 0, 0, 0, 0, 1, 1): array([0, 0, 0, 0, 0, 0, 0, 0, 0, 0, 1, 1])}\n"
     ]
    }
   ],
   "source": [
    "syndromes = {}\n",
    "\n",
    "# Однократные ошибки\n",
    "for i in range(n):\n",
    "    error = np.zeros(n, dtype=int)\n",
    "    error[i] = 1\n",
    "    syndrome = (h_matrix @ error) % 2\n",
    "    syndromes[tuple(syndrome)] = error\n",
    "\n",
    "# Двукратные ошибки\n",
    "for i in range(n):\n",
    "    for j in range(i + 1, n):\n",
    "        error = np.zeros(n, dtype=int)\n",
    "        error[i] = 1\n",
    "        error[j] = 1\n",
    "        syndrome = (h_matrix @ error) % 2\n",
    "        syndromes[tuple(syndrome)] = error\n",
    "\n",
    "print(syndromes)"
   ],
   "metadata": {
    "collapsed": false,
    "ExecuteTime": {
     "end_time": "2024-12-22T09:37:20.594159400Z",
     "start_time": "2024-12-22T09:37:20.570693800Z"
    }
   }
  },
  {
   "cell_type": "markdown",
   "source": [
    "#### 2.9. Сформировать кодовое слово длины n из слова длины k. Внести однократную ошибку в сформированное слово. Вычислить синдром, исправить ошибку с использованием таблицы синдромов. Убедиться в правильности полученного слова."
   ],
   "metadata": {
    "collapsed": false
   }
  },
  {
   "cell_type": "code",
   "execution_count": 9,
   "outputs": [
    {
     "name": "stdout",
     "output_type": "stream",
     "text": [
      "Unbroken word = [1 0 1 1 0 1 1 0 1 0 0 1]\n",
      "Broken word = [0 0 1 1 0 1 1 0 1 0 0 1]\n",
      "Syndrome = [1 1 1 1 0 0 0 0]\n",
      "Fixed word = [1 0 1 1 0 1 1 0 1 0 0 1]\n",
      "Correction successful =  True\n"
     ]
    }
   ],
   "source": [
    "word = np.array([1, 0, 1, 1], dtype=int)\n",
    "res = (word @ linear_code) % 2\n",
    "\n",
    "print(f\"Unbroken word = {res}\")\n",
    "\n",
    "broken_word = res.copy()\n",
    "broken_word[0] ^= 1\n",
    "print(f\"Broken word = {broken_word}\")\n",
    "\n",
    "syndrome = (h_matrix @ broken_word) % 2\n",
    "print(f\"Syndrome = {syndrome}\")\n",
    "\n",
    "error_vector = syndromes.get(tuple(syndrome), np.zeros(n, dtype=int))\n",
    "fixed_word = (broken_word + error_vector) % 2\n",
    "print(f\"Fixed word = {fixed_word}\")\n",
    "\n",
    "print(\"Correction successful = \", np.array_equal(fixed_word, res))"
   ],
   "metadata": {
    "collapsed": false,
    "ExecuteTime": {
     "end_time": "2024-12-22T09:37:20.594931600Z",
     "start_time": "2024-12-22T09:37:20.581962500Z"
    }
   }
  },
  {
   "cell_type": "markdown",
   "source": [
    "#### 2.10. Сформировать кодовое слово длины n из слова длины k. Внести двукратную ошибку в сформированное слово. Вычислить синдром, исправить ошибку с использованием таблицы синдромов. Убедиться в правильности полученного слова."
   ],
   "metadata": {
    "collapsed": false
   }
  },
  {
   "cell_type": "code",
   "execution_count": 10,
   "outputs": [
    {
     "name": "stdout",
     "output_type": "stream",
     "text": [
      "Unbroken word = [1 0 1 1 0 1 1 0 1 0 0 1]\n",
      "Broken word = [0 1 1 1 0 1 1 0 1 0 0 1]\n",
      "Syndrome = [1 1 1 1 1 1 1 1]\n",
      "Fixed word = [1 0 1 1 0 1 1 0 1 0 0 1]\n",
      "Correction failed (as expected) =  False\n"
     ]
    }
   ],
   "source": [
    "word = np.array([1, 0, 1, 1], dtype=int)\n",
    "res = (word @ linear_code) % 2\n",
    "\n",
    "print(f\"Unbroken word = {res}\")\n",
    "\n",
    "broken_word = res.copy()\n",
    "broken_word[0] ^= 1\n",
    "broken_word[1] ^= 1\n",
    "print(f\"Broken word = {broken_word}\")\n",
    "\n",
    "syndrome = (h_matrix @ broken_word) % 2\n",
    "print(f\"Syndrome = {syndrome}\")\n",
    "\n",
    "error_vector = syndromes.get(tuple(syndrome), np.zeros(n, dtype=int))\n",
    "fixed_word = (broken_word + error_vector) % 2\n",
    "print(f\"Fixed word = {fixed_word}\")\n",
    "\n",
    "print(\"Correction failed (as expected) = \", not np.array_equal(fixed_word, res))"
   ],
   "metadata": {
    "collapsed": false,
    "ExecuteTime": {
     "end_time": "2024-12-22T09:37:20.825794100Z",
     "start_time": "2024-12-22T09:37:20.591161400Z"
    }
   }
  },
  {
   "cell_type": "markdown",
   "source": [
    "#### 2.1. Сформировать кодовое слово длины n из слова длины k. Внести трёхкратную ошибку в сформированное слово. Вычислить синдром, исправить ошибку с использованием таблицы синдромов. Убедиться, что полученное слово отличается от отправленного."
   ],
   "metadata": {
    "collapsed": false
   }
  },
  {
   "cell_type": "code",
   "execution_count": 11,
   "outputs": [
    {
     "name": "stdout",
     "output_type": "stream",
     "text": [
      "Unbroken word = [1 0 1 1 0 1 1 0 1 0 0 1]\n",
      "Broken word = [0 1 0 1 0 1 1 0 1 0 0 1]\n",
      "Syndrome = [1 1 0 0 1 1 0 0]\n",
      "Error detected, but cannot be corrected.\n"
     ]
    },
    {
     "ename": "ValueError",
     "evalue": "operands could not be broadcast together with shapes (12,) (4,) ",
     "output_type": "error",
     "traceback": [
      "\u001B[1;31m---------------------------------------------------------------------------\u001B[0m",
      "\u001B[1;31mValueError\u001B[0m                                Traceback (most recent call last)",
      "Cell \u001B[1;32mIn[11], line 31\u001B[0m\n\u001B[0;32m     28\u001B[0m             broken_word[i] \u001B[38;5;241m=\u001B[39m \u001B[38;5;241m1\u001B[39m \u001B[38;5;241m-\u001B[39m broken_word[i]\n\u001B[0;32m     30\u001B[0m \u001B[38;5;66;03m# Проверка: отличается ли исправленное слово от исходного\u001B[39;00m\n\u001B[1;32m---> 31\u001B[0m is_correct \u001B[38;5;241m=\u001B[39m \u001B[38;5;28mall\u001B[39m(\u001B[43mbroken_word\u001B[49m\u001B[43m \u001B[49m\u001B[38;5;241;43m==\u001B[39;49m\u001B[43m \u001B[49m\u001B[43mword\u001B[49m)\n\u001B[0;32m     32\u001B[0m \u001B[38;5;28mprint\u001B[39m(\u001B[38;5;124mf\u001B[39m\u001B[38;5;124m\"\u001B[39m\u001B[38;5;124mCorrected word matches original = \u001B[39m\u001B[38;5;132;01m{\u001B[39;00mis_correct\u001B[38;5;132;01m}\u001B[39;00m\u001B[38;5;124m\"\u001B[39m)\n",
      "\u001B[1;31mValueError\u001B[0m: operands could not be broadcast together with shapes (12,) (4,) "
     ]
    }
   ],
   "source": [
    "#### 2.11. Внесение трёхкратной ошибки и проверка результата.\n",
    "\n",
    "# Исходное кодовое слово длины n\n",
    "\n",
    "word = np.array([1, 0, 1, 1], dtype=int)\n",
    "res = (word @ linear_code) % 2\n",
    "\n",
    "print(f\"Unbroken word = {res}\")\n",
    "\n",
    "broken_word = res.copy()\n",
    "broken_word[0] ^= 1\n",
    "broken_word[1] ^= 1\n",
    "broken_word[2] ^= 1\n",
    "print(f\"Broken word = {broken_word}\")\n",
    "\n",
    "syndrome = (h_matrix @ broken_word) % 2\n",
    "print(f\"Syndrome = {syndrome}\")\n",
    "\n",
    "# Попытка исправления трёхкратной ошибки\n",
    "try:\n",
    "    error = syndromes[np.array_str(syndrome)]\n",
    "except KeyError:\n",
    "    print(\"Error detected, but cannot be corrected.\")\n",
    "else:\n",
    "    print(f\"Error = {error}\")\n",
    "    for i in range(len(error)):\n",
    "        if error[i] == 1:\n",
    "            broken_word[i] = 1 - broken_word[i]\n",
    "\n",
    "# Проверка: отличается ли исправленное слово от исходного\n",
    "is_correct = all(broken_word == word)\n",
    "print(f\"Corrected word matches original = {is_correct}\")"
   ],
   "metadata": {
    "collapsed": false,
    "ExecuteTime": {
     "end_time": "2024-12-22T09:37:21.134900300Z",
     "start_time": "2024-12-22T09:37:20.603921300Z"
    }
   }
  }
 ],
 "metadata": {
  "kernelspec": {
   "display_name": "Python 3",
   "language": "python",
   "name": "python3"
  },
  "language_info": {
   "codemirror_mode": {
    "name": "ipython",
    "version": 2
   },
   "file_extension": ".py",
   "mimetype": "text/x-python",
   "name": "python",
   "nbconvert_exporter": "python",
   "pygments_lexer": "ipython2",
   "version": "2.7.6"
  }
 },
 "nbformat": 4,
 "nbformat_minor": 0
}
